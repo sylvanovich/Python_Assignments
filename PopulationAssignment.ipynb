{
 "cells": [
  {
   "cell_type": "code",
   "execution_count": 28,
   "metadata": {},
   "outputs": [
    {
     "name": "stdout",
     "output_type": "stream",
     "text": [
      "What is the starting number of oragnisms?: 5\n",
      "What is the percentage of the daily population increase?: 5\n",
      "What is the number of days the organisms needs to be multiplied by?: 5\n",
      "5 0.05 5\n",
      "Day Approx \t Population\n",
      "1  \t\t 5\n",
      "Day Approx \t Population\n",
      "2  \t\t 5.25\n",
      "Day Approx \t Population\n",
      "3  \t\t 5.5125\n",
      "Day Approx \t Population\n",
      "4  \t\t 5.788125\n",
      "Day Approx \t Population\n",
      "5  \t\t 6.07753125\n"
     ]
    }
   ],
   "source": [
    "#receiving input from the user \n",
    "organisms = int(input(\"What is the starting number of oragnisms?: \"))\n",
    "populationIncrease = float(input(\"What is the percentage of the daily population increase?: \"))\n",
    "organismsMultiply = int(input(\"What is the number of days the organisms needs to be multiplied by?: \"))\n",
    "populationIncrease /= 100\n",
    "population = organisms \n",
    "#this is the input that will be printed on screen from user \n",
    "print(organisms, populationIncrease, organismsMultiply)\n",
    "\n",
    "\n",
    "#this is going through the for loop to check the range by adding 1 \n",
    "for num in range(1,organismsMultiply + 1):\n",
    "    print(\"Day Approx\", \"\\t\", \"Population\")\n",
    "    print(num, \" \\t\\t\", population)\n",
    "    population += (populationIncrease * population)"
   ]
  },
  {
   "cell_type": "code",
   "execution_count": null,
   "metadata": {},
   "outputs": [],
   "source": []
  }
 ],
 "metadata": {
  "kernelspec": {
   "display_name": "Python 3",
   "language": "python",
   "name": "python3"
  },
  "language_info": {
   "codemirror_mode": {
    "name": "ipython",
    "version": 3
   },
   "file_extension": ".py",
   "mimetype": "text/x-python",
   "name": "python",
   "nbconvert_exporter": "python",
   "pygments_lexer": "ipython3",
   "version": "3.7.1"
  }
 },
 "nbformat": 4,
 "nbformat_minor": 2
}
