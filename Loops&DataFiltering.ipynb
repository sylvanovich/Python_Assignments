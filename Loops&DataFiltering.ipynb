{
 "cells": [
  {
   "cell_type": "code",
   "execution_count": null,
   "metadata": {},
   "outputs": [
    {
     "name": "stdout",
     "output_type": "stream",
     "text": [
      "/Users/sylvanovich/Classroom Homework\n",
      "Please enter in a key word to move forward: soccer\n",
      "soccer:\n",
      "\tgoal.com\n",
      "\tmls.com\n",
      "\tespn.com\n",
      "\tfoxsports.com\n",
      "Please enter in a key word to move forward: food\n",
      "food:\n",
      "\tfoodnetwork.com\n",
      "\trecipes.com\n",
      "Please enter in a key word to move forward: recipes\n",
      "recipes:\n",
      "\tfoodnetwork.com\n",
      "\trecipes.com\n"
     ]
    }
   ],
   "source": [
    "import os \n",
    "print(os.getcwd())\n",
    "\n",
    "fileOpen = open(\"Websites.txt\", \"r\")\n",
    "sites = {} #creating new dictionary \n",
    "\n",
    "#looping through each line in the websites file\n",
    "for line in fileOpen: \n",
    "    \n",
    "    name = line.strip(\"\\n\")\n",
    "    keyWord = next(fileOpen).strip(\"\\n\")\n",
    "    key_List = keyWord.split(', ')\n",
    "    \n",
    "    for i in key_List:\n",
    "        if i not in sites:\n",
    "            sites[i] = [name]\n",
    "        else: \n",
    "            sites[i].append(name)\n",
    "            \n",
    "test = True \n",
    "\n",
    "while test: \n",
    "    userInput = input(\"Please enter in a key word to move forward: \")\n",
    "    \n",
    "    if userInput not in sites: \n",
    "        print(\"No results found for your key word\")\n",
    "    else:\n",
    "        print(userInput + \":\")\n",
    "        for name in sites[userInput]:\n",
    "            print(\"\\t\" + name)"
   ]
  },
  {
   "cell_type": "code",
   "execution_count": null,
   "metadata": {},
   "outputs": [],
   "source": []
  },
  {
   "cell_type": "code",
   "execution_count": null,
   "metadata": {},
   "outputs": [],
   "source": []
  }
 ],
 "metadata": {
  "kernelspec": {
   "display_name": "Python 3",
   "language": "python",
   "name": "python3"
  },
  "language_info": {
   "codemirror_mode": {
    "name": "ipython",
    "version": 3
   },
   "file_extension": ".py",
   "mimetype": "text/x-python",
   "name": "python",
   "nbconvert_exporter": "python",
   "pygments_lexer": "ipython3",
   "version": "3.7.1"
  }
 },
 "nbformat": 4,
 "nbformat_minor": 2
}
