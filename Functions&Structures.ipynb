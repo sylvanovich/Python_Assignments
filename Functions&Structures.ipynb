{
 "cells": [
  {
   "cell_type": "code",
   "execution_count": 5,
   "metadata": {},
   "outputs": [
    {
     "name": "stdout",
     "output_type": "stream",
     "text": [
      "What is the first number?: 5\n",
      "What is the second number?: 5\n",
      "10\n"
     ]
    }
   ],
   "source": [
    "def add_nums(num1, num2):\n",
    "    print(num1 + num2)\n",
    "x = int(input(\"What is the first number?: \"))\n",
    "y = int(input(\"What is the second number?: \"))\n",
    "add_nums(x, y)"
   ]
  },
  {
   "cell_type": "code",
   "execution_count": 42,
   "metadata": {},
   "outputs": [
    {
     "name": "stdout",
     "output_type": "stream",
     "text": [
      "num1:5\n",
      "num2:5\n",
      "<function add_this at 0x10f238950>\n"
     ]
    }
   ],
   "source": [
    "def add_this(num1, num2):\n",
    "    return(num1+num2)\n",
    "int1 = int(input(\"num1:\"))\n",
    "int2 = int(input(\"num2:\"))\n",
    "add_this(int1,int2)\n",
    "print(add_this(i))\n"
   ]
  },
  {
   "cell_type": "code",
   "execution_count": 35,
   "metadata": {},
   "outputs": [
    {
     "name": "stdout",
     "output_type": "stream",
     "text": [
      "Joe\n",
      "Joe\n",
      "Joe\n"
     ]
    }
   ],
   "source": [
    "def repeatThat(strText, intNumber):\n",
    "    index = 0 \n",
    "    while index < len(strText):\n",
    "        print(strText)\n",
    "        index += 1\n",
    "        \n",
    "repeatThat(\"Joe\", 0)"
   ]
  },
  {
   "cell_type": "code",
   "execution_count": 11,
   "metadata": {},
   "outputs": [
    {
     "name": "stdout",
     "output_type": "stream",
     "text": [
      "What is first number?5\n",
      "What is second number?5\n",
      "10\n"
     ]
    }
   ],
   "source": [
    "def test(x,y):\n",
    "    print(x + y)\n",
    "num1 = int(input(\"What is first number?\"))\n",
    "num2 = int(input(\"What is second number?\"))\n",
    "test(num1, num2)"
   ]
  },
  {
   "cell_type": "code",
   "execution_count": 19,
   "metadata": {},
   "outputs": [
    {
     "name": "stdout",
     "output_type": "stream",
     "text": [
      "What is the first number?: 7\n",
      "What is the second number?: 7\n",
      "14\n"
     ]
    }
   ],
   "source": [
    "def add_nums(num1, num2):\n",
    "    return num1 + num2 \n",
    "x = int(input(\"What is the first number?: \"))\n",
    "y = int(input(\"What is the second number?: \"))\n",
    "print (add_nums(x,y))"
   ]
  },
  {
   "cell_type": "code",
   "execution_count": 37,
   "metadata": {},
   "outputs": [
    {
     "name": "stdout",
     "output_type": "stream",
     "text": [
      "testing\n",
      "testing\n"
     ]
    }
   ],
   "source": [
    "def iwantThisrepeating(text, number):\n",
    "    for i in range(3, number):\n",
    "        print(text)\n",
    "iwantThisrepeating(\"testing\", 5)\n"
   ]
  },
  {
   "cell_type": "code",
   "execution_count": 8,
   "metadata": {},
   "outputs": [
    {
     "name": "stdout",
     "output_type": "stream",
     "text": [
      "This is the string\n",
      "This is the string\n",
      "This is the string\n",
      "This is the string\n"
     ]
    }
   ],
   "source": [
    "def repeat(strText, intNumber):\n",
    "    for i in range(intNumber):\n",
    "        print(strText)\n",
    "repeat(\"This is the string\",4)"
   ]
  },
  {
   "cell_type": "code",
   "execution_count": 14,
   "metadata": {},
   "outputs": [
    {
     "name": "stdout",
     "output_type": "stream",
     "text": [
      "Joe Sylvanovich\n",
      "Joe Sylvanovich\n",
      "Joe Sylvanovich\n",
      "Joe Sylvanovich\n",
      "Joe Sylvanovich\n",
      "Joe Sylvanovich\n",
      "Joe Sylvanovich\n",
      "Joe Sylvanovich\n",
      "Joe Sylvanovich\n",
      "Joe Sylvanovich\n",
      "Joe Sylvanovich\n",
      "Joe Sylvanovich\n",
      "Joe Sylvanovich\n",
      "Joe Sylvanovich\n",
      "Joe Sylvanovich\n"
     ]
    }
   ],
   "source": [
    "def nameRepeat(name, number):\n",
    "    index = 0 \n",
    "    while index < len(name):\n",
    "        print(name)\n",
    "        index+=1\n",
    "        \n",
    "nameRepeat(\"Joe Sylvanovich\", 0)"
   ]
  },
  {
   "cell_type": "code",
   "execution_count": 2,
   "metadata": {},
   "outputs": [
    {
     "name": "stdout",
     "output_type": "stream",
     "text": [
      "Number 1: 6\n",
      "Number 2: 5\n",
      "Number 3: 3\n",
      "The largest number is:  6\n"
     ]
    }
   ],
   "source": [
    "largest = 0 \n",
    "num1 = int(input(\"Number 1: \"))\n",
    "num2 = int(input(\"Number 2: \"))\n",
    "num3 = int(input(\"Number 3: \"))\n",
    "for i in[num1, num2, num3]:\n",
    "    if i > largest:\n",
    "        largest = i \n",
    "print(\"The largest number is: \", largest)"
   ]
  },
  {
   "cell_type": "code",
   "execution_count": 27,
   "metadata": {},
   "outputs": [
    {
     "name": "stdout",
     "output_type": "stream",
     "text": [
      "What is the number? 4\n",
      "What is the number? 10\n",
      "What is the number? 3\n",
      "[4, 10, 3]\n",
      "This is the highest number in the list 10\n"
     ]
    }
   ],
   "source": [
    "largest = 0 \n",
    "emptylist = []\n",
    "num1 = int(input(\"What is the number? \"))\n",
    "num2 = int(input(\"What is the number? \"))\n",
    "num3 = int(input(\"What is the number? \"))\n",
    "\n",
    "for i in num1,num2,num3: \n",
    "    emptylist.append(i)\n",
    "print(emptylist)\n",
    "\n",
    "highest = 0\n",
    "for i in emptylist:\n",
    "    if i > highest:\n",
    "        highest = i\n",
    "print(\"This is the highest number in the list\", highest)\n",
    "            \n"
   ]
  }
 ],
 "metadata": {
  "kernelspec": {
   "display_name": "Python 3",
   "language": "python",
   "name": "python3"
  },
  "language_info": {
   "codemirror_mode": {
    "name": "ipython",
    "version": 3
   },
   "file_extension": ".py",
   "mimetype": "text/x-python",
   "name": "python",
   "nbconvert_exporter": "python",
   "pygments_lexer": "ipython3",
   "version": "3.7.1"
  }
 },
 "nbformat": 4,
 "nbformat_minor": 2
}
