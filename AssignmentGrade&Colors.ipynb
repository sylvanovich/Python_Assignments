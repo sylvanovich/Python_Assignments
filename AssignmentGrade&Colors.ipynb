{
 "cells": [
  {
   "cell_type": "code",
   "execution_count": 33,
   "metadata": {},
   "outputs": [
    {
     "name": "stdout",
     "output_type": "stream",
     "text": [
      "What is the width of the first rectangle?5\n",
      "What is the length of the first rectangle?6\n",
      "What is the width of the second rectangle?5\n",
      "What is the length of the second rectangle?3\n",
      "The area of the first rectangle is: 30\n",
      "The area of the second rectangle is: 15\n",
      "Area 1 is greater than area 2.\n"
     ]
    }
   ],
   "source": [
    "width1 = int(input(\"What is the width of the first rectangle?: \")) \n",
    "length1 = int(input(\"What is the length of the first rectangle?: \"))\n",
    "area1 = width1 * length1 #area is being calculated\n",
    "\n",
    "width2 = int(input(\"What is the width of the second rectangle?: \"))\n",
    "length2 = int(input(\"What is the length of the second rectangle?: \"))\n",
    "area2 = width2 * length2 #area is being calculated\n",
    "\n",
    "#below is outputting after the program figures out the area of each rectangle \n",
    "print (\"The area of the first rectangle is:\", area1)\n",
    "print (\"The area of the second rectangle is:\", area2)\n",
    "\n",
    "#below determines which area is greater and states if they are equal to using if-elif-else statements \n",
    "if area1 > area2:\n",
    "    print (\"Area 1 is greater than area 2.\")\n",
    "elif area1 < area2:\n",
    "    print (\"Area 2 is greater than area 1.\")\n",
    "else:\n",
    "    print (\"Area 1 is equal to area 2.\")"
   ]
  },
  {
   "cell_type": "code",
   "execution_count": 17,
   "metadata": {},
   "outputs": [
    {
     "name": "stdout",
     "output_type": "stream",
     "text": [
      "Assignment grade 1: 76\n",
      "Assignment grade 2: 77\n",
      "Midterm grade: 89\n",
      "Final grade: 90\n",
      "Assignment weighted total:  19.125\n",
      "Midterm weighted total:  31.15\n",
      "Final weighted total:  36.0\n",
      "0.86275\n",
      "The final grade is a B\n"
     ]
    }
   ],
   "source": [
    "# receiving input from the user for assignment 1&2, midterm grade and final grade. \n",
    "assignment1 = int(input(\"Assignment grade 1: \"))\n",
    "assignment2 = int(input(\"Assignment grade 2: \"))\n",
    "midterm = int(input(\"Midterm grade: \"))\n",
    "final = int(input(\"Final grade: \"))\n",
    "\n",
    "#these are the weighted averages that have been assigned a variable. I chose to assign these values a variable because they may change from semester-to-semester.\n",
    "#The benefit with using variables is that if the weights need to be changed, they can be changed in one area instead of two. \n",
    "assignmentWeight = .25\n",
    "midtermWeight = .35\n",
    "finalWeight = .40\n",
    "\n",
    "#This portion is finding the total of each of the three assignments. \n",
    "assignmentTotal = ((assignment1 + assignment2) /2) * assignmentWeight\n",
    "midtermTotal = midterm * midtermWeight\n",
    "finalTotal = final * finalWeight\n",
    "\n",
    "#what the user sees when the weights are calculated \n",
    "print (\"Assignment weighted total: \", assignmentTotal)\n",
    "print (\"Midterm weighted total: \", midtermTotal)\n",
    "print (\"Final weighted total: \", finalTotal)\n",
    "\n",
    "#calculating the final grade by dividing by 100 since that will give the letter grade within the course. \n",
    "finalGrade = (assignmentTotal + midtermTotal + finalTotal) / 100\n",
    "print (finalGrade)\n",
    "\n",
    "#the if-elif-else statement to determine which letter grade the user needs to document/review. \n",
    "if finalGrade >= .9:\n",
    "    print(\"The final grade is an A\")\n",
    "elif finalGrade >= .8 and finalGrade < .9:\n",
    "    print(\"The final grade is a B\")\n",
    "elif finalGrade >= .7 and finalGrade < .8:\n",
    "    print(\"The final grade is a C\")\n",
    "else:\n",
    "    print(\"The final grade is an F\")\n",
    "\n",
    "\n",
    "\n"
   ]
  },
  {
   "cell_type": "code",
   "execution_count": 57,
   "metadata": {},
   "outputs": [
    {
     "name": "stdout",
     "output_type": "stream",
     "text": [
      "Enter first primary color to mix: red\n",
      "Enter second primary color to mix: green\n",
      "Invalid.\n"
     ]
    }
   ],
   "source": [
    "#requesting two colors from the user to input\n",
    "colorChoice1 = str(input(\"Enter first primary color to mix: \"))\n",
    "colorChoice2 = str(input(\"Enter second primary color to mix: \"))\n",
    "\n",
    "#if colorchoice1 is red or blue AND colorchoice2 is either blue or red, the secondary color will be purple. \n",
    "if (colorChoice1 == \"red\" or colorChoice1 == \"blue\") and (colorChoice2 == \"blue\" or colorChoice2 == \"red\"):\n",
    "    print(\"This mixture of red and blue create purple.\")\n",
    "#if the program goes through the first 'if' statement then the secondary will be orange if red AND yellow are chosen. \n",
    "elif (colorChoice1 == \"red\" or colorChoice1 == \"yellow\") and (colorChoice2 == 'yellow' or colorChoice2 == 'red'):\n",
    "    print(\"This mixture of red and yellow create orange.\")\n",
    "#colorchoice1 and colorchoice2 need to be either blue AND yellow to determine the secondary color of green. \n",
    "elif (colorChoice1 == 'blue' or colorChoice1 == 'yellow') and (colorChoice2 == 'yellow' or colorChoice2 == 'blue'):\n",
    "    print(\"This mixture of blue and yellow create green.\")\n",
    "else: #if the program finds a color for either 1, 2, or both entries to not be the colors to create secondary colors, then it will output and error. \n",
    "    print(\"Invalid.\")"
   ]
  }
 ],
 "metadata": {
  "kernelspec": {
   "display_name": "Python 3",
   "language": "python",
   "name": "python3"
  },
  "language_info": {
   "codemirror_mode": {
    "name": "ipython",
    "version": 3
   },
   "file_extension": ".py",
   "mimetype": "text/x-python",
   "name": "python",
   "nbconvert_exporter": "python",
   "pygments_lexer": "ipython3",
   "version": "3.7.1"
  }
 },
 "nbformat": 4,
 "nbformat_minor": 2
}
