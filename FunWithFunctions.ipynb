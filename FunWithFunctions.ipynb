{
 "cells": [
  {
   "cell_type": "code",
   "execution_count": 12,
   "metadata": {},
   "outputs": [],
   "source": [
    "def add_nums(num1, num2):\n",
    "    print(num1 + num2)"
   ]
  },
  {
   "cell_type": "code",
   "execution_count": 11,
   "metadata": {},
   "outputs": [
    {
     "ename": "IndentationError",
     "evalue": "unexpected indent (<ipython-input-11-a66bb1b8de2a>, line 6)",
     "output_type": "error",
     "traceback": [
      "\u001b[0;36m  File \u001b[0;32m\"<ipython-input-11-a66bb1b8de2a>\"\u001b[0;36m, line \u001b[0;32m6\u001b[0m\n\u001b[0;31m    sumOfUserNumber = add_nums(n1, n2)\u001b[0m\n\u001b[0m    ^\u001b[0m\n\u001b[0;31mIndentationError\u001b[0m\u001b[0;31m:\u001b[0m unexpected indent\n"
     ]
    }
   ],
   "source": [
    "add_nums(num1, num2):\n",
    "    total = num1 + num2\n",
    "    print(total)\n",
    "n1 = int(input(\"What is the first number?: \"))\n",
    "n2 = int(input(\"What is the second number?: \"))\n",
    "    sumOfUserNumber = add_nums(n1, n2)\n",
    "    print(sumOfUserNumber)"
   ]
  },
  {
   "cell_type": "code",
   "execution_count": 13,
   "metadata": {},
   "outputs": [],
   "source": [
    "def add_nums(num1, num2):\n",
    "    print(num1 + num2)\n",
    "x = int(input(\"What is the first number?: \"))\n",
    "y = int(input(\"What is the second number?: \"))\n",
    "add_nums(x, y)"
   ]
  },
  {
   "cell_type": "code",
   "execution_count": null,
   "metadata": {},
   "outputs": [],
   "source": [
    "def add_nums(num1, num2):\n",
    "    return num1 + num2 \n",
    "x = int(input(\"What is the first number?: \"))\n",
    "y = int(input(\"What is the second number?: \"))\n",
    "print(add_nums(x,y))"
   ]
  },
  {
   "cell_type": "code",
   "execution_count": null,
   "metadata": {},
   "outputs": [],
   "source": [
    "def add_nums(num1, num2)\n",
    "intNumbers = int(input(\"What is the number?: \"))\n",
    "    for num "
   ]
  },
  {
   "cell_type": "code",
   "execution_count": null,
   "metadata": {},
   "outputs": [],
   "source": [
    "def repeat(strText, intNumber):\n",
    "    for i in range(0, intNumber):\n",
    "        print(strText)\n",
    "repeat(\"This is the string\",5)"
   ]
  },
  {
   "cell_type": "code",
   "execution_count": 31,
   "metadata": {},
   "outputs": [
    {
     "name": "stdout",
     "output_type": "stream",
     "text": [
      "What is the file?: Joe.txt\n"
     ]
    }
   ],
   "source": [
    "anything = \"\"\n",
    "getFile = input(\"What is the file?: \")\n",
    "for i in getFile: \n",
    "    anything += i\n",
    "    if i == \"[ :.]\":\n",
    "        print(anything)"
   ]
  },
  {
   "cell_type": "code",
   "execution_count": null,
   "metadata": {
    "scrolled": true
   },
   "outputs": [],
   "source": [
    "highest = int(input(\"What is the number\"))\n",
    "for i in range(1,3):\n",
    "    if num > highest:\n",
    "        highest = num\n",
    "print (highest)"
   ]
  }
 ],
 "metadata": {
  "kernelspec": {
   "display_name": "Python 3",
   "language": "python",
   "name": "python3"
  },
  "language_info": {
   "codemirror_mode": {
    "name": "ipython",
    "version": 3
   },
   "file_extension": ".py",
   "mimetype": "text/x-python",
   "name": "python",
   "nbconvert_exporter": "python",
   "pygments_lexer": "ipython3",
   "version": "3.7.1"
  }
 },
 "nbformat": 4,
 "nbformat_minor": 2
}
