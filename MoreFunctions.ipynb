{
 "cells": [
  {
   "cell_type": "code",
   "execution_count": 48,
   "metadata": {},
   "outputs": [
    {
     "name": "stdout",
     "output_type": "stream",
     "text": [
      "What is the number?: 50\n",
      "What is the number?: 70\n",
      "120\n",
      "What is the number?: 25\n",
      "What is the number?: 35\n",
      "60\n",
      "What is the sentence?: This is the sentence\n",
      "What is the number of times you would like...? 5\n",
      "This is the sentence\n",
      "This is the sentence\n",
      "This is the sentence\n",
      "This is the sentence\n",
      "This is the sentence\n",
      "What is the file name? test.txt\n",
      "txt\n",
      "What is the first number? 50\n",
      "What is the second number? 20\n",
      "What is the third number? 45\n",
      "The highest number is 50\n"
     ]
    }
   ],
   "source": [
    "#one\n",
    "def add_nums(num1, num2):\n",
    "    result = num1 + num2 \n",
    "    print(result)\n",
    "#two\n",
    "x = int(input(\"What is the number?: \"))\n",
    "y = int(input(\"What is the number?: \"))\n",
    "add_nums(x, y)\n",
    "#three \n",
    "def add_nums1(num1, num2):\n",
    "    result = num1 + num2 \n",
    "    return result \n",
    "#four\n",
    "x = int(input(\"What is the number?: \"))\n",
    "y = int(input(\"What is the number?: \"))\n",
    "print(add_nums1(x, y))\n",
    "\n",
    "#five & six\n",
    "def strInt(strText, intNumber):\n",
    "    for num in range(intNumber):\n",
    "        print(strText)\n",
    "strText = input(\"What is the sentence?: \")\n",
    "intNumber = int(input(\"What is the number of times you would like...? \"))\n",
    "strInt(strText, intNumber)\n",
    "\n",
    "#seven\n",
    "\n",
    "filename = input(\"What is the file name? \")\n",
    "fot = filename.find(\".\")\n",
    "sliced = filename[fot+1:]\n",
    "print(sliced)\n",
    "\n",
    "#eight \n",
    "highest = 0 \n",
    "num1 = int(input(\"What is the first number? \"))\n",
    "num2 = int(input(\"What is the second number? \"))\n",
    "num3 = int(input(\"What is the third number? \"))\n",
    "\n",
    "for i in (num1, num2, num3):\n",
    "    if i > highest:\n",
    "        highest = i \n",
    "print(\"The highest number is\", highest)"
   ]
  }
 ],
 "metadata": {
  "kernelspec": {
   "display_name": "Python 3",
   "language": "python",
   "name": "python3"
  },
  "language_info": {
   "codemirror_mode": {
    "name": "ipython",
    "version": 3
   },
   "file_extension": ".py",
   "mimetype": "text/x-python",
   "name": "python",
   "nbconvert_exporter": "python",
   "pygments_lexer": "ipython3",
   "version": "3.7.1"
  }
 },
 "nbformat": 4,
 "nbformat_minor": 2
}
