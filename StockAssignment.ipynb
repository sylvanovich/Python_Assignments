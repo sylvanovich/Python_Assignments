{
 "cells": [
  {
   "cell_type": "code",
   "execution_count": 15,
   "metadata": {},
   "outputs": [
    {
     "name": "stdout",
     "output_type": "stream",
     "text": [
      "Joe's Acme Software Shares Report\n"
     ]
    }
   ],
   "source": [
    "print (\"Joe's Acme Software Shares Report\")"
   ]
  },
  {
   "cell_type": "code",
   "execution_count": 20,
   "metadata": {},
   "outputs": [
    {
     "name": "stdout",
     "output_type": "stream",
     "text": [
      "Joe paid a total of 80000 for his shares\n"
     ]
    }
   ],
   "source": [
    "purchasePrice = int(40)\n",
    "totalShares = int(2000)\n",
    "\n",
    "totalPaid = purchasePrice * totalShares \n",
    "\n",
    "print(\"Joe paid a total of\", totalPaid, \"for his shares.\")"
   ]
  },
  {
   "cell_type": "code",
   "execution_count": 23,
   "metadata": {},
   "outputs": [
    {
     "name": "stdout",
     "output_type": "stream",
     "text": [
      "Joe paid a total of 2400.0 to his broker when he bought the stock at a 3% charge\n"
     ]
    }
   ],
   "source": [
    "commissionCost = float(.03)\n",
    "\n",
    "totalBrokerInterest = totalPaid * commissionCost\n",
    "\n",
    "print(\"Joe paid a total of\", totalBrokerInterest, \"to his broker when he bought the stock at a 3% charge.\")\n"
   ]
  },
  {
   "cell_type": "code",
   "execution_count": 25,
   "metadata": {},
   "outputs": [
    {
     "name": "stdout",
     "output_type": "stream",
     "text": [
      "Joe sold his stock at a price of 42.75 per share generating a total sale of 85500.0\n"
     ]
    }
   ],
   "source": [
    "soldStockPrice = float(42.75)\n",
    "soldStockAmount = int(2000)\n",
    "totalGained = soldStockPrice * soldStockAmount\n",
    "print (\"Joe sold his stock at a price of\", soldStockPrice, \"per share generating a total sale of\", totalGained)\n"
   ]
  },
  {
   "cell_type": "code",
   "execution_count": 30,
   "metadata": {},
   "outputs": [
    {
     "name": "stdout",
     "output_type": "stream",
     "text": [
      "Joe paid a total of 2565.0 for selling his stock.\n"
     ]
    }
   ],
   "source": [
    "commissionPaidWhenSold = totalGained * commissionCost \n",
    "print(\"Joe paid a total of\", commissionPaidWhenSold, \"for selling his stock.\")"
   ]
  },
  {
   "cell_type": "code",
   "execution_count": 34,
   "metadata": {},
   "outputs": [
    {
     "name": "stdout",
     "output_type": "stream",
     "text": [
      "Joe had a remaining of 80535.0 left after he sold his stock and paid his broker when buying and selling his stock.\n"
     ]
    }
   ],
   "source": [
    "moneyRemaining = totalGained - commissionPaidWhenSold - totalBrokerInterest\n",
    "print(\"Joe had a remaining of\", moneyRemaining, \"left after he sold his stock and paid his broker when buying and selling his stock.\")\n",
    "\n"
   ]
  },
  {
   "cell_type": "code",
   "execution_count": null,
   "metadata": {},
   "outputs": [],
   "source": []
  }
 ],
 "metadata": {
  "kernelspec": {
   "display_name": "Python 3",
   "language": "python",
   "name": "python3"
  },
  "language_info": {
   "codemirror_mode": {
    "name": "ipython",
    "version": 3
   },
   "file_extension": ".py",
   "mimetype": "text/x-python",
   "name": "python",
   "nbconvert_exporter": "python",
   "pygments_lexer": "ipython3",
   "version": "3.7.1"
  }
 },
 "nbformat": 4,
 "nbformat_minor": 2
}
