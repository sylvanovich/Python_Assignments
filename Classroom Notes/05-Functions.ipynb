{
 "cells": [
  {
   "cell_type": "code",
   "execution_count": null,
   "metadata": {},
   "outputs": [],
   "source": [
    "### Functions"
   ]
  },
  {
   "cell_type": "markdown",
   "metadata": {},
   "source": [
    "##### Agenda\n",
    "Why Functions? <br>\n",
    "Built-in Functions and User-Defined Functions <br>\n",
    "Built-in Functions: Standard Library Functions and the Import Statement <br>\n",
    "Void Functions and Value-Returning Functions; Void and Fruitful Functions <br>\n",
    "Local and Global Variables <hr>\n"
   ]
  },
  {
   "cell_type": "markdown",
   "metadata": {},
   "source": [
    "Functions - Set of statements that exists within a program as a logical unit to perform a specific task.<br><br>\n",
    "Why Functions? <br>\n",
    "&nbsp;&nbsp;&nbsp; Modularization and Simplicity, Readability<br>\n",
    "&nbsp;&nbsp;&nbsp; Code Reuse, Faster Development, Minimizing Repetition of code <br>\n",
    "&nbsp;&nbsp;&nbsp; Better Debugging/Testing <br>\n",
    "&nbsp;&nbsp;&nbsp; Modularization and Collaboration<hr>"
   ]
  },
  {
   "cell_type": "code",
   "execution_count": null,
   "metadata": {},
   "outputs": [],
   "source": [
    "# Built-in Functions\n",
    "# Examples of Built-in Functions\n",
    "# Examples from Built-in Fucntions: Void Functions\n",
    "# Examples from Built-in Fucntions:  Value-Returning Functions"
   ]
  },
  {
   "cell_type": "code",
   "execution_count": 1,
   "metadata": {},
   "outputs": [
    {
     "name": "stdout",
     "output_type": "stream",
     "text": [
      "hello\n",
      "None 5\n"
     ]
    }
   ],
   "source": [
    "# type\n",
    "x=print('hello')\n",
    "y=len('hello')\n",
    "print (x,y)"
   ]
  },
  {
   "cell_type": "markdown",
   "metadata": {
    "collapsed": true
   },
   "source": [
    "##### User-Defined Functions\n",
    "Rules for Function Names - Same as variable naming rules <br>\n",
    "Functions - Syntax: <hr>\n",
    "<img src=\"https://www.safaribooksonline.com/library/view/head-first-python/9781449397524/httpatomoreillycomsourceoreillyimages1368386.png.jpg\">\n",
    "\n",
    "<font size=-2>\n",
    "<p  style=\"text-align:right\">&copy; Head First Python</p>\n",
    "</font>\n"
   ]
  },
  {
   "cell_type": "code",
   "execution_count": 1,
   "metadata": {},
   "outputs": [
    {
     "name": "stdout",
     "output_type": "stream",
     "text": [
      "calling function print_hello\n",
      "hello\n",
      "world\n"
     ]
    }
   ],
   "source": [
    "def print_hello():\n",
    "    print('hello')\n",
    "    print('world')\n",
    "\n",
    "print('calling function print_hello')\n",
    "print_hello()\n",
    "\n",
    "# Other variations (Main; import)"
   ]
  },
  {
   "cell_type": "code",
   "execution_count": null,
   "metadata": {},
   "outputs": [],
   "source": [
    "# Variation - Using Main()\n",
    "# Make sure to clear namespace (Jupyter magic functions: whos, reset)\n",
    "\n",
    "a=2\n",
    "a+=10\n",
    "print(a)"
   ]
  },
  {
   "cell_type": "code",
   "execution_count": null,
   "metadata": {},
   "outputs": [],
   "source": [
    "%whos"
   ]
  },
  {
   "cell_type": "code",
   "execution_count": null,
   "metadata": {},
   "outputs": [],
   "source": [
    "%reset"
   ]
  },
  {
   "cell_type": "code",
   "execution_count": null,
   "metadata": {},
   "outputs": [],
   "source": [
    "# Variation - Using Main()\n",
    "# Make sure to clear namespace\n",
    "\n",
    "def print_hello():\n",
    "    print('hello')\n",
    "    print('world')\n",
    "\n",
    "def main():\n",
    "    print('main program calling function print_hello')\n",
    "    print_hello()\n",
    "\n",
    "main()"
   ]
  },
  {
   "cell_type": "markdown",
   "metadata": {},
   "source": [
    "<p  style=\"text-align:center\">Hierarchy Chart: Functions and understanding the flow of code execution </p><br>\n",
    "<img src=\"https://upload.wikimedia.org/wikipedia/commons/thumb/6/61/Top-down_structure_diagram.svg/500px-Top-down_structure_diagram.svg.png\">\n",
    "<font size=-2>\n",
    "<p  style=\"text-align:right\">&copy; WikiMedia</p>\n",
    "</font>"
   ]
  },
  {
   "cell_type": "code",
   "execution_count": null,
   "metadata": {},
   "outputs": [],
   "source": [
    "# Will this work?\n",
    "# Be careful about current namespace: whos, reset\n",
    "\n",
    "print('calling function print_hello')\n",
    "print_hello()\n",
    "\n",
    "def print_hello():\n",
    "    print('helloooo')\n",
    "    print('world')"
   ]
  },
  {
   "cell_type": "code",
   "execution_count": null,
   "metadata": {},
   "outputs": [],
   "source": [
    "#Functions with arguments \n",
    "def print_hello_city(cityname):\n",
    "    print('Hello ', cityname)\n",
    "\n",
    "print('calling function print_hello_city')\n",
    "city=input('Enter the name of a city: ')\n",
    "print_hello_city(city)"
   ]
  },
  {
   "cell_type": "markdown",
   "metadata": {},
   "source": [
    "##### Exercises\n",
    "\n",
    "Write a Function 'repeat_name' that takes a name and prints it five times in the same line.<br>\n",
    "Write a function that takes two numbers as parameters and prints the sum of the two numbers.<br>\n",
    "Write a Function 'add-nums' to add two numbers and return the sum to the program that calls the function.<hr>"
   ]
  },
  {
   "cell_type": "code",
   "execution_count": null,
   "metadata": {},
   "outputs": [],
   "source": [
    "# Function that returns a value to the program that calls it\n",
    "\n",
    "def return_name(name):\n",
    "    return(name+' for president')\n",
    "\n",
    "name1=input('Enter your first name: ')\n",
    "slogan=return_name(name1)\n",
    "print(slogan)"
   ]
  },
  {
   "cell_type": "code",
   "execution_count": null,
   "metadata": {},
   "outputs": [],
   "source": [
    "# global and local variables; print l1 inside print_values() function\n",
    "# how to print l1\n",
    "\n",
    "iAmGlobal=10\n",
    "\n",
    "def exlocal():\n",
    "    iAmLocal=1\n",
    "    print(iAmLocal)\n",
    "\n",
    "\n",
    "def print_values():\n",
    "    print(iAmGlobal)\n",
    "    #print(iAmLocal)\n",
    "    print('done')\n",
    "\n",
    "exlocal()\n",
    "print_values()"
   ]
  },
  {
   "cell_type": "code",
   "execution_count": null,
   "metadata": {},
   "outputs": [],
   "source": [
    "def add_nums(num1, num2):\n",
    "    sum=num1+num2\n",
    "    print(sum)\n",
    "\n",
    "n1=float(input('Enter the first number: '))\n",
    "n2=float(input('Enter the second number: '))\n",
    "add_nums(n1,n2)\n",
    "\n",
    "# n1, n2 are global"
   ]
  },
  {
   "cell_type": "code",
   "execution_count": 1,
   "metadata": {},
   "outputs": [
    {
     "name": "stdout",
     "output_type": "stream",
     "text": [
      "Enter the first number: 5\n",
      "Enter the second number: 5\n",
      "10.0\n"
     ]
    }
   ],
   "source": [
    "# Global within a Function (Explicit Declaration; see book for syntax)\n",
    "# Avoid Global variables. Why?\n",
    "# Global Constants (see book)\n",
    "# Variation of the above example without global variables\n",
    "\n",
    "def add_nums(num1, num2):\n",
    "    sum=num1+num2\n",
    "    return sum\n",
    "\n",
    "def main():\n",
    "    n1=float(input('Enter the first number: '))\n",
    "    n2=float(input('Enter the second number: '))\n",
    "    sumReturned=add_nums(n1,n2)\n",
    "    print(sumReturned)\n",
    "    \n",
    "main()\n",
    "\n"
   ]
  },
  {
   "cell_type": "code",
   "execution_count": null,
   "metadata": {},
   "outputs": [],
   "source": [
    "# local, global; how to make this work while using these three functions\n",
    "\n",
    "def add_nums(num1, num2):\n",
    "    sum=num1+num2\n",
    "    print(sum)\n",
    "\n",
    "def main():\n",
    "    take_inputs()\n",
    "    add_nums(x1,x2)\n",
    "\n",
    "def take_inputs():\n",
    "    x1=float(input('Enter the first number: '))\n",
    "    x2=float(input('Enter the second number: '))\n",
    "\n",
    "# Program Start\n",
    "main()\n",
    "\n",
    "# check variables? whos, reset\n",
    "# Review Keyword and Positional Arguments (see Book: Program 5-11)\n"
   ]
  },
  {
   "cell_type": "markdown",
   "metadata": {},
   "source": [
    "##### Import Libraries and Functions"
   ]
  },
  {
   "cell_type": "code",
   "execution_count": null,
   "metadata": {},
   "outputs": [],
   "source": [
    "# Modules in Python: math, random\n",
    "# More: numpy, pandas, matplotlib, seaborn\n",
    "\n",
    "import random\n",
    "nr1=random.randint(1,100)\n",
    "print (nr1)"
   ]
  },
  {
   "cell_type": "code",
   "execution_count": null,
   "metadata": {},
   "outputs": [],
   "source": [
    "import math\n",
    "x=math.sqrt(4)\n",
    "print(x)"
   ]
  },
  {
   "cell_type": "code",
   "execution_count": null,
   "metadata": {},
   "outputs": [],
   "source": [
    "import SampleFunction\n",
    "SampleFunction.print_UserMessage('Pasta with broccoli')"
   ]
  },
  {
   "cell_type": "code",
   "execution_count": null,
   "metadata": {},
   "outputs": [],
   "source": [
    "import SampleFunction2\n",
    "SampleFunction2.print_UserMessage2('functions')"
   ]
  },
  {
   "cell_type": "code",
   "execution_count": 16,
   "metadata": {},
   "outputs": [
    {
     "name": "stdout",
     "output_type": "stream",
     "text": [
      "909 + 300\n",
      "Enter sum1209\n",
      "correct\n"
     ]
    }
   ],
   "source": [
    "import random \n",
    "\n",
    "def main():\n",
    "    num1 = random.randint(0, 1000)\n",
    "    num2 = random.randint(0, 1000)\n",
    "    random.randint(0, 1000)\n",
    "    print(num1, \"+\", num2)\n",
    "    x, y = solution(num1, num2)\n",
    "    if y == x:\n",
    "        print(\"correct\")\n",
    "    elif x != y:\n",
    "        print(\"incorrect\")\n",
    "        \n",
    "def solution(num1, num2):\n",
    "    x = int(input(\"Enter sum\"))\n",
    "    y = num1 + num2\n",
    "    return x, y \n",
    "main()\n",
    "    "
   ]
  },
  {
   "cell_type": "code",
   "execution_count": null,
   "metadata": {},
   "outputs": [],
   "source": []
  },
  {
   "cell_type": "code",
   "execution_count": null,
   "metadata": {},
   "outputs": [],
   "source": []
  },
  {
   "cell_type": "code",
   "execution_count": null,
   "metadata": {},
   "outputs": [],
   "source": []
  },
  {
   "cell_type": "code",
   "execution_count": null,
   "metadata": {},
   "outputs": [],
   "source": []
  }
 ],
 "metadata": {
  "kernelspec": {
   "display_name": "Python 3",
   "language": "python",
   "name": "python3"
  },
  "language_info": {
   "codemirror_mode": {
    "name": "ipython",
    "version": 3
   },
   "file_extension": ".py",
   "mimetype": "text/x-python",
   "name": "python",
   "nbconvert_exporter": "python",
   "pygments_lexer": "ipython3",
   "version": "3.7.1"
  }
 },
 "nbformat": 4,
 "nbformat_minor": 1
}
