{
 "cells": [
  {
   "cell_type": "markdown",
   "metadata": {},
   "source": [
    "### Jupyter Notebook: Introduction"
   ]
  },
  {
   "cell_type": "markdown",
   "metadata": {},
   "source": [
    "Jupyter Notebook consists of self-contained cells that you can use to test your code. It also has other types of cells to write descriptive text.  For example, I am using Markdown Cell to type in text in this cell. "
   ]
  },
  {
   "cell_type": "code",
   "execution_count": 1,
   "metadata": {},
   "outputs": [
    {
     "name": "stdout",
     "output_type": "stream",
     "text": [
      "use shift+enter to run code in a cell\n"
     ]
    }
   ],
   "source": [
    "# This is an example of Code Cell\n",
    "print ('use shift+enter to run code in a cell')"
   ]
  },
  {
   "cell_type": "code",
   "execution_count": null,
   "metadata": {},
   "outputs": [],
   "source": [
    "print(\"use 'tab' to pop up methods of an object\")"
   ]
  },
  {
   "cell_type": "markdown",
   "metadata": {},
   "source": [
    "\n",
    "\n",
    "See examples in the next two code cells to test how to use tab to pop up methods of an object"
   ]
  },
  {
   "cell_type": "code",
   "execution_count": 2,
   "metadata": {},
   "outputs": [
    {
     "name": "stdout",
     "output_type": "stream",
     "text": [
      "hello\n"
     ]
    }
   ],
   "source": [
    "s='hello'   #variable assignment\n",
    "print (s)   #print the value of the variable"
   ]
  },
  {
   "cell_type": "code",
   "execution_count": 3,
   "metadata": {},
   "outputs": [
    {
     "name": "stdout",
     "output_type": "stream",
     "text": [
      "I am testing this out to see the output\n"
     ]
    }
   ],
   "source": [
    "print (\"I am testing this out to see the output\")"
   ]
  },
  {
   "cell_type": "code",
   "execution_count": 3,
   "metadata": {},
   "outputs": [
    {
     "name": "stdout",
     "output_type": "stream",
     "text": [
      "s= hello \n",
      "S= HELLO\n"
     ]
    }
   ],
   "source": [
    "S=s.upper()  # press tab after S=s. to see all possibilities on this string object. I use upper\n",
    "print ('s=', s, '\\n' 'S=', S)"
   ]
  },
  {
   "cell_type": "markdown",
   "metadata": {},
   "source": [
    "\n",
    "\n",
    "You can use File menu to create new Jupyter Notebooks (.ipynb extension).  You can also copy this notebook as well as export it in other formats.\n",
    "\n",
    "Take a look at the menu options under File, Edit, Insert and Cell\n"
   ]
  }
 ],
 "metadata": {
  "kernelspec": {
   "display_name": "Python 3",
   "language": "python",
   "name": "python3"
  },
  "language_info": {
   "codemirror_mode": {
    "name": "ipython",
    "version": 3
   },
   "file_extension": ".py",
   "mimetype": "text/x-python",
   "name": "python",
   "nbconvert_exporter": "python",
   "pygments_lexer": "ipython3",
   "version": "3.7.1"
  }
 },
 "nbformat": 4,
 "nbformat_minor": 1
}
