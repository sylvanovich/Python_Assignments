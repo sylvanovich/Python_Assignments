{
 "cells": [
  {
   "cell_type": "markdown",
   "metadata": {
    "collapsed": true
   },
   "source": [
    "#### Dictionaries\n",
    "\n",
    "Agenda<br>"
   ]
  },
  {
   "cell_type": "markdown",
   "metadata": {},
   "source": [
    "Dictionaries - another critical compound data type in Python (similar to associative arrays in other languages)<br>\n",
    "Holds data as a key-value pair; key can be any immutable data type and references a value that can be changed<br>\n",
    "Example: {1:'Nanda', 2:'Tim'}  \n",
    "Example: {'Jan':110, 'Feb':90}\n"
   ]
  },
  {
   "cell_type": "code",
   "execution_count": 9,
   "metadata": {},
   "outputs": [
    {
     "name": "stdout",
     "output_type": "stream",
     "text": [
      "month?:Mar\n",
      "3\n"
     ]
    }
   ],
   "source": [
    "dictMonths = {'Jan':[31,1], 'Feb':[28,2], 'Mar':[31, 3] }\n",
    "mymonth = input('month?:')\n",
    "try:\n",
    "    print(dictMonths[mymonth][1])\n",
    "except:\n",
    "    print(\"No\")"
   ]
  },
  {
   "cell_type": "code",
   "execution_count": 6,
   "metadata": {},
   "outputs": [
    {
     "name": "stdout",
     "output_type": "stream",
     "text": [
      "month?:Apr\n",
      "no\n"
     ]
    }
   ],
   "source": [
    "dictMonths = {'Jan':[31,1], 'Feb':[28,2], 'Mar':[31, 3] }\n",
    "mymonth = input('month?:')\n",
    "#print(dictMonths([mymonth]))\n",
    "if mymonth in dictMonths:\n",
    "    print(dictMonths([mymonth]))\n",
    "else: \n",
    "    print(\"no\")"
   ]
  },
  {
   "cell_type": "code",
   "execution_count": null,
   "metadata": {},
   "outputs": [],
   "source": [
    "# create dictionaries\n",
    "\n",
    "dt={}\n",
    "print(dt)\n",
    "dt1=dict()\n",
    "print(dt1)\n",
    "dtSales={'Jan':110, 'Feb':90}\n",
    "print(dtSales)"
   ]
  },
  {
   "cell_type": "code",
   "execution_count": null,
   "metadata": {},
   "outputs": [],
   "source": [
    "dt={}\n",
    "dt[1]='Nanda'\n",
    "dt[2]='Tim'\n",
    "print(dt)"
   ]
  },
  {
   "cell_type": "code",
   "execution_count": null,
   "metadata": {},
   "outputs": [],
   "source": [
    "dt[2]='Sara'\n",
    "dt[3]='Kim'\n",
    "dt[4]='Juan'\n",
    "print(dt)"
   ]
  },
  {
   "cell_type": "code",
   "execution_count": null,
   "metadata": {},
   "outputs": [],
   "source": [
    "dt['five']='Qian'\n",
    "print(dt)\n",
    "print (dt[4])\n",
    "print (dt['five'])\n",
    "\n",
    "\n",
    "# Note that it is up to us to designate meaningful keys! It is not like Lists where you use the index concept.\n",
    "# Also note that the order of items printed is not important; "
   ]
  },
  {
   "cell_type": "code",
   "execution_count": null,
   "metadata": {},
   "outputs": [],
   "source": [
    "print (dt[5])\n",
    "print (dt[12])"
   ]
  },
  {
   "cell_type": "markdown",
   "metadata": {},
   "source": [
    "Lists, tuples and strings are sequences; the individual elements occur in order; we can use indexing and slicing operations on these data types.  <font color='red'> The items in Dictionaries do not occur in order </font>.  Hence, you cannot use slicing or indexing operations on them. <br>Why use Dictionaries?<hr>"
   ]
  },
  {
   "cell_type": "code",
   "execution_count": null,
   "metadata": {},
   "outputs": [],
   "source": [
    "dt={1: 'Nanda', 2: 'Sara', 3: 'Kim', 4: 'Juan'}\n",
    "\n",
    "for key in dt.keys():\n",
    "    print(key)"
   ]
  },
  {
   "cell_type": "code",
   "execution_count": null,
   "metadata": {},
   "outputs": [],
   "source": [
    "#what does i access - key or value?\n",
    "\n",
    "for i in dt:\n",
    "    print(i)"
   ]
  },
  {
   "cell_type": "code",
   "execution_count": null,
   "metadata": {},
   "outputs": [],
   "source": [
    "# To access values in a dictionary\n",
    "\n",
    "for value in dt.values():\n",
    "    print(value)"
   ]
  },
  {
   "cell_type": "code",
   "execution_count": null,
   "metadata": {},
   "outputs": [],
   "source": [
    "%reset"
   ]
  },
  {
   "cell_type": "code",
   "execution_count": null,
   "metadata": {},
   "outputs": [],
   "source": [
    "dt={1: 'Nanda', 2: 'Sara', 3: 'Kim', 4: 'Juan'}\n",
    "print (dt.items())\n",
    "\n",
    "for key,value in dt.items():\n",
    "    print ( key,value)\n",
    "    \n"
   ]
  },
  {
   "cell_type": "code",
   "execution_count": null,
   "metadata": {},
   "outputs": [],
   "source": [
    "for t in dt.items(): \n",
    "    print (t)"
   ]
  },
  {
   "cell_type": "code",
   "execution_count": null,
   "metadata": {},
   "outputs": [],
   "source": [
    "# Operations, order in which key-value pairs are accessed.\n",
    "\n",
    "dtSales={'Jan':110, 'Feb':90, 'Mar':130, 'Apr':80}\n",
    "dtSales['May']=200\n",
    "print(dtSales)"
   ]
  },
  {
   "cell_type": "code",
   "execution_count": null,
   "metadata": {},
   "outputs": [],
   "source": [
    "# Working with values in dictionary\n",
    "\n",
    "dtSales['May']+=10\n",
    "dtSales['Apr']=90\n",
    "print(dtSales)"
   ]
  },
  {
   "cell_type": "code",
   "execution_count": null,
   "metadata": {},
   "outputs": [],
   "source": [
    "dt={1: 'Nanda', 2: 'Sara', 3: 'Kim', 4: 'Juan'}\n",
    "xbool=isinstance(dt,dict)\n",
    "print(xbool)\n"
   ]
  },
  {
   "cell_type": "code",
   "execution_count": null,
   "metadata": {},
   "outputs": [],
   "source": [
    "print(dt)"
   ]
  },
  {
   "cell_type": "code",
   "execution_count": null,
   "metadata": {},
   "outputs": [],
   "source": [
    "xbool1=1 in dt\n",
    "xbool2='Nanda' in dt\n",
    "print (xbool1, xbool2)"
   ]
  },
  {
   "cell_type": "code",
   "execution_count": null,
   "metadata": {},
   "outputs": [],
   "source": [
    "xbool3='Nanda' in (dt.values())\n",
    "print(xbool3)"
   ]
  },
  {
   "cell_type": "code",
   "execution_count": null,
   "metadata": {},
   "outputs": [],
   "source": [
    "print(dt.values())"
   ]
  },
  {
   "cell_type": "code",
   "execution_count": null,
   "metadata": {},
   "outputs": [],
   "source": [
    "# pop returns the value of the key referred to in the argument\n",
    "dt={1: 'Nanda', 2: 'Sara', 3: 'Kim', 4: 'Juan'}\n",
    "v=dt.pop(1)\n",
    "print(dt,v, sep='\\n')"
   ]
  },
  {
   "cell_type": "code",
   "execution_count": null,
   "metadata": {},
   "outputs": [],
   "source": [
    "v=dt.popitem()\n",
    "print(dt,v, sep='\\n')"
   ]
  },
  {
   "cell_type": "code",
   "execution_count": null,
   "metadata": {},
   "outputs": [],
   "source": [
    "dt={2: 'Sara', 3: 'Kim', 4: 'Juan'}\n",
    "v=dt.get(5,0)\n",
    "print(v)"
   ]
  },
  {
   "cell_type": "code",
   "execution_count": null,
   "metadata": {},
   "outputs": [],
   "source": [
    "v=dt.copy()\n",
    "print(dt,v, sep='\\n')"
   ]
  },
  {
   "cell_type": "code",
   "execution_count": null,
   "metadata": {},
   "outputs": [],
   "source": [
    "v[2]='Olivia'\n",
    "print(dt,v, sep='\\n')"
   ]
  },
  {
   "cell_type": "code",
   "execution_count": null,
   "metadata": {},
   "outputs": [],
   "source": [
    "dt.clear()\n",
    "print(dt)\n"
   ]
  },
  {
   "cell_type": "markdown",
   "metadata": {},
   "source": [
    "Exercise:\n",
    "1) Think about what kind of code you will need to write to take a word (say: 'aikaramba') and provide a listing of how many times each alphabet appears in the word (no need to account for absent alphabets).\n",
    "2) Write code..."
   ]
  },
  {
   "cell_type": "code",
   "execution_count": null,
   "metadata": {},
   "outputs": [],
   "source": [
    "# Dictionaries to count\n",
    "\n",
    "word='holy cow'\n",
    "dtC={}\n",
    "for letter in word:\n",
    "    if letter not in dtC:\n",
    "        dtC[letter]=1\n",
    "    else:\n",
    "        dtC[letter]+=1\n",
    "    print(letter, dtC)\n",
    "print('\\n',dtC)"
   ]
  },
  {
   "cell_type": "code",
   "execution_count": null,
   "metadata": {},
   "outputs": [],
   "source": [
    "del(dtC[' '])\n",
    "print(dtC)"
   ]
  },
  {
   "cell_type": "code",
   "execution_count": null,
   "metadata": {},
   "outputs": [],
   "source": [
    "word='Holy Cow'\n",
    "dtC={}\n",
    "for letter in word.upper():\n",
    "    if letter not in dtC:\n",
    "        dtC[letter]=1\n",
    "    else:\n",
    "        dtC[letter]+=1\n",
    "print(dtC)"
   ]
  },
  {
   "cell_type": "code",
   "execution_count": null,
   "metadata": {},
   "outputs": [],
   "source": [
    "fob=open('movies-short.txt')  \n",
    "for line in fob:\n",
    "    print (line.rstrip())\n",
    "fob.close()"
   ]
  },
  {
   "cell_type": "code",
   "execution_count": null,
   "metadata": {},
   "outputs": [],
   "source": [
    "# sort words in each line by length\n",
    "\n",
    "fob=open('movies-short.txt')  \n",
    "lis=[]\n",
    "for line in fob:\n",
    "    words=line.split()\n",
    "    print(words)\n",
    "    for word in words:\n",
    "        lis.append((len(word),word))\n",
    "    lis.sort()\n",
    "    print(lis)\n",
    "    lis=[]\n",
    "fob.close()    "
   ]
  },
  {
   "cell_type": "code",
   "execution_count": null,
   "metadata": {},
   "outputs": [],
   "source": [
    "fob=open('movies-short.txt')  \n",
    "dtC=dict()\n",
    "for line in fob:\n",
    "    words=line.split()\n",
    "    print (words)\n",
    "    for word in words:\n",
    "        if word not in dtC:\n",
    "            dtC[word]=1\n",
    "        else:\n",
    "            dtC[word]+=1\n",
    "fob.close()    \n",
    "print(dtC)"
   ]
  },
  {
   "cell_type": "code",
   "execution_count": null,
   "metadata": {},
   "outputs": [],
   "source": [
    "t=dtC.items()\n",
    "print(dtC, t, sep='\\n\\n')"
   ]
  },
  {
   "cell_type": "code",
   "execution_count": null,
   "metadata": {},
   "outputs": [],
   "source": [
    "lis=list(dtC.items())\n",
    "print(lis)"
   ]
  },
  {
   "cell_type": "code",
   "execution_count": null,
   "metadata": {},
   "outputs": [],
   "source": [
    "# sort by key\n",
    "\n",
    "lis.sort()\n",
    "print(lis)"
   ]
  },
  {
   "cell_type": "code",
   "execution_count": null,
   "metadata": {},
   "outputs": [],
   "source": [
    "# sort by value\n",
    "\n",
    "newlis=[]\n",
    "for key,val in dtC.items():\n",
    "    newlis.append((val,key))\n",
    "newlis.sort(reverse=True)\n",
    "print(newlis)"
   ]
  },
  {
   "cell_type": "code",
   "execution_count": null,
   "metadata": {},
   "outputs": [],
   "source": [
    "dt={1: 'Nanda', 2: 'Sara', 3: 'Kim', 4: 'Juan'}\n",
    "del dt[1]\n",
    "print(len(dt))"
   ]
  },
  {
   "cell_type": "code",
   "execution_count": null,
   "metadata": {},
   "outputs": [],
   "source": []
  }
 ],
 "metadata": {
  "kernelspec": {
   "display_name": "Python 3",
   "language": "python",
   "name": "python3"
  },
  "language_info": {
   "codemirror_mode": {
    "name": "ipython",
    "version": 3
   },
   "file_extension": ".py",
   "mimetype": "text/x-python",
   "name": "python",
   "nbconvert_exporter": "python",
   "pygments_lexer": "ipython3",
   "version": "3.7.1"
  }
 },
 "nbformat": 4,
 "nbformat_minor": 1
}
