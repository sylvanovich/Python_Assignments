{
 "cells": [
  {
   "cell_type": "markdown",
   "metadata": {
    "colab_type": "text",
    "id": "u-cCrxT8P-L6"
   },
   "source": [
    "### Basic Data Types"
   ]
  },
  {
   "cell_type": "markdown",
   "metadata": {
    "colab_type": "text",
    "id": "oT_7RqYGP-L-"
   },
   "source": [
    "Python works with values such as 10, 5.5 and 'hello'\n",
    "These values correspond to data types such as Integers, Real Numbers (Floats) and Strings"
   ]
  },
  {
   "cell_type": "markdown",
   "metadata": {
    "colab_type": "text",
    "id": "RgmqUoFwP-MB"
   },
   "source": [
    "#### Constants and Variables"
   ]
  },
  {
   "cell_type": "markdown",
   "metadata": {
    "colab_type": "text",
    "id": "DhOl_miOP-MD"
   },
   "source": [
    "Constants: Fixed values whose numbers do not change\n",
    "    Examples of Numeric constants: 10, 5.5\n",
    "    Examples of String Constants: 'hello'"
   ]
  },
  {
   "cell_type": "code",
   "execution_count": 1,
   "metadata": {
    "colab": {
     "base_uri": "https://localhost:8080/",
     "height": 51
    },
    "colab_type": "code",
    "executionInfo": {
     "elapsed": 578,
     "status": "ok",
     "timestamp": 1546746085423,
     "user": {
      "displayName": "Kannan Mohan",
      "photoUrl": "https://lh3.googleusercontent.com/-IhKc3V-EkwI/AAAAAAAAAAI/AAAAAAAASnY/V-VzPE_cGGg/s64/photo.jpg",
      "userId": "17154330698999996501"
     },
     "user_tz": 300
    },
    "id": "TMZlrFsZP-MF",
    "outputId": "01dcdcc5-a448-476a-877d-d7138f9dabd0"
   },
   "outputs": [
    {
     "name": "stdout",
     "output_type": "stream",
     "text": [
      "10\n"
     ]
    },
    {
     "data": {
      "text/plain": [
       "int"
      ]
     },
     "execution_count": 1,
     "metadata": {
      "tags": []
     },
     "output_type": "execute_result"
    }
   ],
   "source": [
    "print (10)\n",
    "type (10)   #tells you the data type; better use print(type(10)); see below"
   ]
  },
  {
   "cell_type": "code",
   "execution_count": 2,
   "metadata": {
    "colab": {
     "base_uri": "https://localhost:8080/",
     "height": 34
    },
    "colab_type": "code",
    "executionInfo": {
     "elapsed": 338,
     "status": "ok",
     "timestamp": 1546746088050,
     "user": {
      "displayName": "Kannan Mohan",
      "photoUrl": "https://lh3.googleusercontent.com/-IhKc3V-EkwI/AAAAAAAAAAI/AAAAAAAASnY/V-VzPE_cGGg/s64/photo.jpg",
      "userId": "17154330698999996501"
     },
     "user_tz": 300
    },
    "id": "EXn2DCR5P-MN",
    "outputId": "8ff3b5d2-5266-4835-a601-934b388fea94"
   },
   "outputs": [
    {
     "name": "stdout",
     "output_type": "stream",
     "text": [
      "<class 'float'>\n"
     ]
    }
   ],
   "source": [
    "print (type(5.6))"
   ]
  },
  {
   "cell_type": "code",
   "execution_count": 3,
   "metadata": {
    "colab": {
     "base_uri": "https://localhost:8080/"
    },
    "colab_type": "code",
    "executionInfo": {
     "elapsed": 438,
     "status": "ok",
     "timestamp": 1546746091373,
     "user": {
      "displayName": "Kannan Mohan",
      "photoUrl": "https://lh3.googleusercontent.com/-IhKc3V-EkwI/AAAAAAAAAAI/AAAAAAAASnY/V-VzPE_cGGg/s64/photo.jpg",
      "userId": "17154330698999996501"
     },
     "user_tz": 300
    },
    "id": "wGXhZlKTP-MU",
    "outputId": "4a421b87-3a25-4bc6-f27e-7f6e126eea90"
   },
   "outputs": [
    {
     "name": "stdout",
     "output_type": "stream",
     "text": [
      "<class 'str'>\n"
     ]
    }
   ],
   "source": [
    "print (type ('hello'))"
   ]
  },
  {
   "cell_type": "markdown",
   "metadata": {
    "colab_type": "text",
    "id": "8txjPc5dP-MZ"
   },
   "source": [
    "Variable is a name that represents a value stored in the computer memory. It is used to access and manipulate data stored in memory. A variable references the value it represents.\n",
    "\n",
    "Assignment statement is used to create a variable and make it reference data\n",
    "General format is variable = expression\n",
    "Example: age = 29\n",
    "Assignment operator: the equal sign (=)"
   ]
  },
  {
   "cell_type": "code",
   "execution_count": 0,
   "metadata": {
    "colab": {},
    "colab_type": "code",
    "id": "MtM_mJueP-Mb",
    "outputId": "6af98cf4-1983-4788-89a1-c214ff079c11"
   },
   "outputs": [
    {
     "name": "stdout",
     "output_type": "stream",
     "text": [
      "5\n"
     ]
    }
   ],
   "source": [
    "x=5        # x is a variable that is assigned a value 5\n",
    "print (x)"
   ]
  },
  {
   "cell_type": "code",
   "execution_count": 0,
   "metadata": {
    "colab": {},
    "colab_type": "code",
    "id": "6u7cxdaXP-Mg",
    "outputId": "d8af7765-a26a-43f6-8dc7-299e1d347f41"
   },
   "outputs": [
    {
     "name": "stdout",
     "output_type": "stream",
     "text": [
      "world\n"
     ]
    },
    {
     "data": {
      "text/plain": [
       "str"
      ]
     },
     "execution_count": 6,
     "metadata": {
      "tags": []
     },
     "output_type": "execute_result"
    }
   ],
   "source": [
    "x=5\n",
    "x='world'\n",
    "print (x)\n",
    "type (x)"
   ]
  },
  {
   "cell_type": "markdown",
   "metadata": {
    "colab_type": "text",
    "id": "QbWL9UHfP-Mm"
   },
   "source": [
    "x was assigned a value 5 and then it was assigned the value 'hello'.<br>  \n",
    "Is this okay? What data type is x? <br>\n",
    "What happens behind the scenes (referencing, garbage collection, dynamic typing)? <br>"
   ]
  },
  {
   "cell_type": "code",
   "execution_count": 0,
   "metadata": {
    "colab": {},
    "colab_type": "code",
    "id": "LJKTBiR5P-Mn",
    "outputId": "066ed9ed-68be-488a-e922-bf10320ddbc4"
   },
   "outputs": [
    {
     "name": "stdout",
     "output_type": "stream",
     "text": [
      "5 hello\n"
     ]
    }
   ],
   "source": [
    "# In the assignment statement, variable receiving value must be on left side. \n",
    "# Multiple assignment is possible in Python.\n",
    "a,b = 5, 'hello'\n",
    "print (a,b)"
   ]
  },
  {
   "cell_type": "markdown",
   "metadata": {
    "colab_type": "text",
    "id": "rDBjn5LsP-Mt"
   },
   "source": [
    "Other Notes: \n",
    "A variable can be passed as an argument to a function (for example, see print statement above). <br>\n",
    "Variable name should not be enclosed in quote marks. <br>\n",
    "You can only use a variable if a value is assigned to it. What happens otherwise? <br>"
   ]
  },
  {
   "cell_type": "code",
   "execution_count": 0,
   "metadata": {
    "colab": {},
    "colab_type": "code",
    "id": "Zw_L_TUeP-Mv",
    "outputId": "6cfaed17-d428-472d-c444-b802733bd45d"
   },
   "outputs": [
    {
     "ename": "NameError",
     "evalue": "name 'Temperature' is not defined",
     "output_type": "error",
     "traceback": [
      "\u001b[1;31m---------------------------------------------------------------------------\u001b[0m",
      "\u001b[1;31mNameError\u001b[0m                                 Traceback (most recent call last)",
      "\u001b[1;32m<ipython-input-10-4098e1164fc7>\u001b[0m in \u001b[0;36m<module>\u001b[1;34m()\u001b[0m\n\u001b[0;32m      1\u001b[0m \u001b[1;31m# Spot and fix error\u001b[0m\u001b[1;33m\u001b[0m\u001b[1;33m\u001b[0m\u001b[0m\n\u001b[0;32m      2\u001b[0m \u001b[0mtemperature\u001b[0m\u001b[1;33m=\u001b[0m\u001b[1;36m80\u001b[0m\u001b[1;33m\u001b[0m\u001b[0m\n\u001b[1;32m----> 3\u001b[1;33m \u001b[0mprint\u001b[0m\u001b[1;33m(\u001b[0m\u001b[0mTemperature\u001b[0m\u001b[1;33m)\u001b[0m\u001b[1;33m\u001b[0m\u001b[0m\n\u001b[0m",
      "\u001b[1;31mNameError\u001b[0m: name 'Temperature' is not defined"
     ]
    }
   ],
   "source": [
    "# Spot and fix error\n",
    "temperature=80\n",
    "print(Temperature)"
   ]
  },
  {
   "cell_type": "markdown",
   "metadata": {
    "colab_type": "text",
    "id": "-w4fxc2YP-M1"
   },
   "source": [
    "\n",
    "#### Rules for naming variables in Python:\n",
    "\n",
    "First character must be a letter or an underscore <br>\n",
    "After the first character, you may use letters, digits, or underscores <br>\n",
    "Variable name cannot be a Python key word  <br>\n",
    "Variable names are case sensitive <br>\n",
    "Variable name should reflect its use and be descriptive (for example, length=25 is preferable over a=25) <br>\n",
    "\n",
    "\n",
    "Good: name, pig, length, abc123 <br>\n",
    "Bad: 23name, var.12,  #name <br>\n",
    "Different: name, NAME, Name <br>"
   ]
  },
  {
   "cell_type": "code",
   "execution_count": 0,
   "metadata": {
    "colab": {},
    "colab_type": "code",
    "id": "MKwC7U-3P-M2"
   },
   "outputs": [],
   "source": [
    "# Exercise\n",
    "# Spot and correct the errors\n",
    "x=5\n",
    "3a2=1\n",
    "ab-2=4\n",
    "ab2=5\n",
    "print (x, 3a2, ab-2, ab2)"
   ]
  },
  {
   "cell_type": "code",
   "execution_count": 0,
   "metadata": {
    "colab": {},
    "colab_type": "code",
    "id": "vSWVUM48P-M9"
   },
   "outputs": [],
   "source": [
    ""
   ]
  },
  {
   "cell_type": "markdown",
   "metadata": {
    "colab_type": "text",
    "id": "M2IstWsGP-NC"
   },
   "source": [
    "#### Assignment Statements: Expressions, Operators and Operands"
   ]
  },
  {
   "cell_type": "code",
   "execution_count": 0,
   "metadata": {
    "colab": {},
    "colab_type": "code",
    "id": "oSGTVxM8P-ND",
    "outputId": "2bab323e-443f-45bf-f422-322ea04d755d"
   },
   "outputs": [
    {
     "name": "stdout",
     "output_type": "stream",
     "text": [
      "2\n"
     ]
    }
   ],
   "source": [
    "x=1\n",
    "x=x+1\n",
    "print (x)"
   ]
  },
  {
   "cell_type": "code",
   "execution_count": 0,
   "metadata": {
    "colab": {},
    "colab_type": "code",
    "id": "pJlzRTHAP-NM",
    "outputId": "607a6d24-a230-45d4-8d9a-242fb0d1ff77"
   },
   "outputs": [
    {
     "name": "stdout",
     "output_type": "stream",
     "text": [
      "3\n"
     ]
    }
   ],
   "source": [
    "x=x*x-1\n",
    "print (x)"
   ]
  },
  {
   "cell_type": "code",
   "execution_count": 0,
   "metadata": {
    "colab": {},
    "colab_type": "code",
    "id": "iiQID6mwP-NT",
    "outputId": "f90c5e54-57cb-4c10-c071-99c90baac939"
   },
   "outputs": [
    {
     "name": "stdout",
     "output_type": "stream",
     "text": [
      "2.5\n",
      "2\n",
      "-3\n",
      "1\n"
     ]
    }
   ],
   "source": [
    "# Other Operators\n",
    "print (5/2)  # / is the operator; 5 and 2 are operands\n",
    "print (5//2)\n",
    "print (-5//2)\n",
    "print (19%3)"
   ]
  },
  {
   "cell_type": "code",
   "execution_count": 0,
   "metadata": {
    "colab": {},
    "colab_type": "code",
    "id": "2voSGWYjP-Nh",
    "outputId": "d82468e9-89a1-4d76-f9a2-345971499006"
   },
   "outputs": [
    {
     "name": "stdout",
     "output_type": "stream",
     "text": [
      "10.0\n"
     ]
    },
    {
     "data": {
      "text/plain": [
       "float"
      ]
     },
     "execution_count": 14,
     "metadata": {
      "tags": []
     },
     "output_type": "execute_result"
    }
   ],
   "source": [
    "x,y=2,5.0\n",
    "z=x*y\n",
    "print (z)\n",
    "type (z)"
   ]
  },
  {
   "cell_type": "code",
   "execution_count": 0,
   "metadata": {
    "colab": {},
    "colab_type": "code",
    "id": "CcK8ElP8P-Ns",
    "outputId": "7e5b5b2b-a556-4314-8fb4-d2ba7b0763ce"
   },
   "outputs": [
    {
     "name": "stdout",
     "output_type": "stream",
     "text": [
      "hihi\n"
     ]
    }
   ],
   "source": [
    "# what happens when str is multiplied by int; other operations\n",
    "s=\"hi\"\n",
    "s1=s*2\n",
    "#s2=s+2\n",
    "#s3=s/2\n",
    "#s4=s-2\n",
    "print(s1)\n",
    "#print(s2)"
   ]
  },
  {
   "cell_type": "code",
   "execution_count": 0,
   "metadata": {
    "colab": {},
    "colab_type": "code",
    "id": "mKDQFKIWP-Ny",
    "outputId": "f0a87b65-c90f-446b-e056-99ab8703241b"
   },
   "outputs": [
    {
     "name": "stdout",
     "output_type": "stream",
     "text": [
      "8.0 4.25\n"
     ]
    }
   ],
   "source": [
    "# Expressions, PEMDAS\n",
    "v1=3+10/2\n",
    "v2=3+10/2**3\n",
    "print (v1,v2)"
   ]
  },
  {
   "cell_type": "code",
   "execution_count": 0,
   "metadata": {
    "colab": {},
    "colab_type": "code",
    "id": "vFo0Lg1gP-N6"
   },
   "outputs": [],
   "source": [
    "# Assignments: Average; SalePrice; FutureValue; Convert Time (discuss in class)\n",
    "# More Print formatting - next module as well as book (discuss in class)"
   ]
  }
 ],
 "metadata": {
  "colab": {
   "name": "01-Basic-Data-Types.ipynb",
   "provenance": [],
   "version": "0.3.2"
  },
  "kernelspec": {
   "display_name": "Python 3",
   "language": "python",
   "name": "python3"
  }
 },
 "nbformat": 4,
 "nbformat_minor": 0
}
