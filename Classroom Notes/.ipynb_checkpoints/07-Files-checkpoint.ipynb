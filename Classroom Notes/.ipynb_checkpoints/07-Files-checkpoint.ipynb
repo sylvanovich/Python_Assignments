{
 "cells": [
  {
   "cell_type": "markdown",
   "metadata": {},
   "source": [
    "### Files\n",
    "Agenda:<br>\n",
    "Work with text files in three modes: Write, Append and Read<br>\n",
    "Processing the file.<br>\n"
   ]
  },
  {
   "cell_type": "code",
   "execution_count": null,
   "metadata": {},
   "outputs": [],
   "source": [
    "# parameters for file open() here: https://www.programiz.com/python-programming/methods/built-in/open\n",
    "import os\n",
    "print(os.getcwd())"
   ]
  },
  {
   "cell_type": "code",
   "execution_count": null,
   "metadata": {},
   "outputs": [],
   "source": [
    "# Write data into a file\n",
    "# Create a text file and list courses (one course per line) in the file\n",
    "# use getcwd() to find out where this will put the file\n",
    "fob=open('courses.txt', 'w') # you can use a path for the file location: open(\"C:/CIS3120/courses.txt\")\n",
    "fob.write('Courses: Data Analytics Concentration') \n",
    "fob.write('Programming for Analytics')\n",
    "fob.write('Data Mining')\n",
    "fob.write('Data warehousing')\n",
    "fob.close()"
   ]
  },
  {
   "cell_type": "code",
   "execution_count": null,
   "metadata": {},
   "outputs": [],
   "source": [
    "# Write data into a file\n",
    "# Create a text file and list courses (one course per line) in the file\n",
    "\n",
    "fob=open('courses.txt', 'w')\n",
    "fob.write('Courses: Data Analytics Concentration\\n') \n",
    "fob.write('Programming for Analytics\\n')\n",
    "fob.write('Data Mining\\n')\n",
    "fob.close()"
   ]
  },
  {
   "cell_type": "code",
   "execution_count": null,
   "metadata": {},
   "outputs": [],
   "source": [
    "# Append data to file\n",
    "\n",
    "fob=open(r'C:\\Users\\zicklinfaculty\\Desktop\\Dropbox\\Teaching\\Spring2018\\CIS3120\\Samples\\JNB CMWA\\courses.txt', 'a') # what happens if you use 'w'?\n",
    "fob.write('Data Warehousing\\n')\n",
    "fob.close()"
   ]
  },
  {
   "cell_type": "code",
   "execution_count": null,
   "metadata": {},
   "outputs": [],
   "source": [
    "# Open and Process a text file\n",
    "# Read File contents in this example\n",
    "\n",
    "fob=open('courses.txt','r')\n",
    "fcon=fob.read()\n",
    "print (fcon)\n",
    "fob.close()"
   ]
  },
  {
   "cell_type": "code",
   "execution_count": null,
   "metadata": {},
   "outputs": [],
   "source": [
    "fob=open('products.txt','r')\n",
    "print (fob.read())\n",
    "fob.close()"
   ]
  },
  {
   "cell_type": "code",
   "execution_count": null,
   "metadata": {},
   "outputs": [],
   "source": [
    "fob=open('products.txt','r')\n",
    "print (fob.readline())\n",
    "print (fob.readline())\n",
    "fob.close()"
   ]
  },
  {
   "cell_type": "code",
   "execution_count": null,
   "metadata": {},
   "outputs": [],
   "source": [
    "# Open and Process a text file\n",
    "# Read File contents and Print lines in this example\n",
    "# using While Loop (EOF - common logic in most programming languages)\n",
    "\n",
    "fob=open('products.txt','r')\n",
    "line=fob.readline()\n",
    "while line!='':\n",
    "    print (line)\n",
    "    line=fob.readline()\n",
    "fob.close()\n",
    "\n",
    "# print (count); count number of lines\n",
    "# modify program to count the number of lines in the file"
   ]
  },
  {
   "cell_type": "code",
   "execution_count": null,
   "metadata": {},
   "outputs": [],
   "source": [
    "# Open and Process a text file\n",
    "# Read File contents and Print lines in this example\n",
    "# using While (EOF) and For (more elegant) Loops\n",
    "\n",
    "fob=open('products.txt','r') \n",
    "# fob is a file object that can be used to access the contents of the file\n",
    "\n",
    "for line in fob:\n",
    "    print (line)\n",
    "fob.close()"
   ]
  },
  {
   "cell_type": "code",
   "execution_count": null,
   "metadata": {},
   "outputs": [],
   "source": [
    "# Revisit after covering Lists in the next module\n",
    "\n",
    "fob=open('products.txt','r')\n",
    "mylist=[]\n",
    "for line in fob:\n",
    "    mylist.append(line)\n",
    "print (mylist)\n",
    "fob.close()"
   ]
  },
  {
   "cell_type": "code",
   "execution_count": null,
   "metadata": {},
   "outputs": [],
   "source": [
    "# Number of Lines in the file\n",
    "\n",
    "fob=open('products.txt','r')\n",
    "count=0\n",
    "for line in fob:\n",
    "    print (line, end='')\n",
    "    count+=1\n",
    "print ('\\n------------------------------------------')\n",
    "print ('The number of lines in the file: ', count)\n",
    "fob.close()"
   ]
  },
  {
   "cell_type": "code",
   "execution_count": null,
   "metadata": {},
   "outputs": [],
   "source": [
    "# Number of Lines in the file\n",
    "\n",
    "fob=open('products.txt','r')\n",
    "count=0\n",
    "for line in fob:\n",
    "    print (line.rstrip('\\n'))\n",
    "    count+=1\n",
    "print ('------------------------------------------')\n",
    "print ('The number of lines in the file: ', count)\n",
    "fob.close()"
   ]
  },
  {
   "cell_type": "code",
   "execution_count": null,
   "metadata": {},
   "outputs": [],
   "source": [
    "# processing; print lines that satisfy a specific condition\n",
    "\n",
    "fob=open('products.txt','r')\n",
    "for line in fob:\n",
    "    if  line.startswith('Ch'):\n",
    "        print (line)\n",
    "print ('done')\n",
    "fob.close()"
   ]
  },
  {
   "cell_type": "code",
   "execution_count": null,
   "metadata": {},
   "outputs": [],
   "source": [
    "#finding data in a file\n",
    "\n",
    "fob=open('products.txt','r')\n",
    "flag=False\n",
    "findThis=input('What to find: ')\n",
    "for line in fob:\n",
    "    pos=line.find(findThis)\n",
    "    if pos!=-1:\n",
    "        print(line, pos)\n",
    "        flag=True\n",
    "if not flag:\n",
    "    print('Not found')\n",
    "fob.close()"
   ]
  },
  {
   "cell_type": "code",
   "execution_count": null,
   "metadata": {},
   "outputs": [],
   "source": [
    "import os\n",
    "print(os.getcwd())"
   ]
  },
  {
   "cell_type": "code",
   "execution_count": null,
   "metadata": {},
   "outputs": [],
   "source": [
    "fob=open(os.getcwd()+r\"\\courses.txt\", 'a') \n",
    "fob.write('Forecasting\\n')\n",
    "fob.close()"
   ]
  },
  {
   "cell_type": "code",
   "execution_count": null,
   "metadata": {},
   "outputs": [],
   "source": [
    "def readFile():\n",
    "    try:\n",
    "        fileName=input('Enter file name:')\n",
    "        fob=open(fileName,'r') \n",
    "        for line in fob:\n",
    "            print (line)\n",
    "        fob.close()\n",
    "    except IOError as err:\n",
    "        print('File not found', err)\n",
    "        readFile()\n",
    "\n",
    "readFile()"
   ]
  },
  {
   "cell_type": "code",
   "execution_count": null,
   "metadata": {},
   "outputs": [],
   "source": []
  }
 ],
 "metadata": {
  "kernelspec": {
   "display_name": "Python 3",
   "language": "python",
   "name": "python3"
  },
  "language_info": {
   "codemirror_mode": {
    "name": "ipython",
    "version": 3
   },
   "file_extension": ".py",
   "mimetype": "text/x-python",
   "name": "python",
   "nbconvert_exporter": "python",
   "pygments_lexer": "ipython3",
   "version": "3.7.1"
  }
 },
 "nbformat": 4,
 "nbformat_minor": 1
}
