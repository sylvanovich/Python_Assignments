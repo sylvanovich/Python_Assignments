{
 "cells": [
  {
   "cell_type": "markdown",
   "metadata": {},
   "source": [
    "##### Processing arrays: More...\n"
   ]
  },
  {
   "cell_type": "code",
   "execution_count": 1,
   "metadata": {},
   "outputs": [],
   "source": [
    "import numpy as np\n",
    "\n",
    "mx1=np.arange(80).reshape((8,10))"
   ]
  },
  {
   "cell_type": "code",
   "execution_count": 2,
   "metadata": {},
   "outputs": [
    {
     "data": {
      "text/plain": [
       "array([[ 0,  1,  2,  3,  4,  5,  6,  7,  8,  9],\n",
       "       [10, 11, 12, 13, 14, 15, 16, 17, 18, 19],\n",
       "       [20, 21, 22, 23, 24, 25, 26, 27, 28, 29],\n",
       "       [30, 31, 32, 33, 34, 35, 36, 37, 38, 39],\n",
       "       [40, 41, 42, 43, 44, 45, 46, 47, 48, 49],\n",
       "       [50, 51, 52, 53, 54, 55, 56, 57, 58, 59],\n",
       "       [60, 61, 62, 63, 64, 65, 66, 67, 68, 69],\n",
       "       [70, 71, 72, 73, 74, 75, 76, 77, 78, 79]])"
      ]
     },
     "execution_count": 2,
     "metadata": {},
     "output_type": "execute_result"
    }
   ],
   "source": [
    "mx1"
   ]
  },
  {
   "cell_type": "code",
   "execution_count": 3,
   "metadata": {},
   "outputs": [
    {
     "name": "stdout",
     "output_type": "stream",
     "text": [
      "[[ 0  1  2  3  4  5  6  7  8  9 10 11 12 13 14 15]\n",
      " [16 17 18 19 20 21 22 23 24 25 26 27 28 29 30 31]\n",
      " [32 33 34 35 36 37 38 39 40 41 42 43 44 45 46 47]\n",
      " [48 49 50 51 52 53 54 55 56 57 58 59 60 61 62 63]\n",
      " [64 65 66 67 68 69 70 71 72 73 74 75 76 77 78 79]]\n"
     ]
    }
   ],
   "source": [
    "mx2=np.arange(80).reshape((5,16))\n",
    "print(mx2)"
   ]
  },
  {
   "cell_type": "code",
   "execution_count": 4,
   "metadata": {},
   "outputs": [
    {
     "data": {
      "text/plain": [
       "array([[ 0, 16, 32, 48, 64],\n",
       "       [ 1, 17, 33, 49, 65],\n",
       "       [ 2, 18, 34, 50, 66],\n",
       "       [ 3, 19, 35, 51, 67],\n",
       "       [ 4, 20, 36, 52, 68],\n",
       "       [ 5, 21, 37, 53, 69],\n",
       "       [ 6, 22, 38, 54, 70],\n",
       "       [ 7, 23, 39, 55, 71],\n",
       "       [ 8, 24, 40, 56, 72],\n",
       "       [ 9, 25, 41, 57, 73],\n",
       "       [10, 26, 42, 58, 74],\n",
       "       [11, 27, 43, 59, 75],\n",
       "       [12, 28, 44, 60, 76],\n",
       "       [13, 29, 45, 61, 77],\n",
       "       [14, 30, 46, 62, 78],\n",
       "       [15, 31, 47, 63, 79]])"
      ]
     },
     "execution_count": 4,
     "metadata": {},
     "output_type": "execute_result"
    }
   ],
   "source": [
    "# Transpose\n",
    "mx2.T"
   ]
  },
  {
   "cell_type": "code",
   "execution_count": 5,
   "metadata": {},
   "outputs": [
    {
     "name": "stdout",
     "output_type": "stream",
     "text": [
      "[[1 2]\n",
      " [3 4]] \n",
      "\n",
      "[[2 3]\n",
      " [4 5]] \n",
      "\n",
      "[[10 13]\n",
      " [22 29]] \n",
      "\n",
      "[[3 5]\n",
      " [7 9]]\n"
     ]
    }
   ],
   "source": [
    "#Dot product of two arrays.\n",
    "\n",
    "m=np.arange(1,5).reshape(2,2)\n",
    "n=np.arange(2,6).reshape(2,2)\n",
    "k=np.dot(m,n)\n",
    "j=np.add(m,n)\n",
    "print(m,'\\n')\n",
    "print(n,'\\n')\n",
    "print(k,'\\n')\n",
    "\n",
    "print(j)\n"
   ]
  },
  {
   "cell_type": "code",
   "execution_count": 6,
   "metadata": {},
   "outputs": [
    {
     "name": "stdout",
     "output_type": "stream",
     "text": [
      "[[ 1.08493366 -0.42830383  0.70789345  1.52572315]\n",
      " [-1.3218759  -0.48492178  0.33999311  0.71529571]\n",
      " [-1.75147072  0.89652757 -0.50522534  0.31550069]\n",
      " [ 0.51385298 -0.13003356 -0.40581798 -0.72839857]\n",
      " [-0.45756424 -0.67891717  0.29518813 -0.89730969]]\n",
      "\n",
      "[[ 0.06689093 -0.75860346 -1.73415357 -0.4641866 ]\n",
      " [ 0.21642698  0.31254834  2.24270214 -0.0581794 ]\n",
      " [ 0.98399451 -0.21124092  0.65861262  0.49269652]\n",
      " [-0.29840548 -0.86337223  0.84402609 -0.59539165]\n",
      " [-0.03919908 -0.68765746 -0.65059325  0.8005925 ]]\n"
     ]
    }
   ],
   "source": [
    "# create two random arrays that follow a normal distribution\n",
    "\n",
    "a1=np.random.randn(20).reshape((5,4))\n",
    "a2=np.random.randn(20).reshape((5,4))\n",
    "print(a1,a2, sep='\\n\\n')"
   ]
  },
  {
   "cell_type": "code",
   "execution_count": 7,
   "metadata": {},
   "outputs": [
    {
     "name": "stdout",
     "output_type": "stream",
     "text": [
      "[[-0.22176676 -0.93821557 -0.12679583  0.7078481 ]\n",
      " [ 1.67400298 -0.29577819  0.35466084 -0.26739646]\n",
      " [-0.47821579  0.63637325 -0.1428211   0.16325125]\n",
      " [-0.87081244 -1.7953653   1.13790304 -0.84937614]\n",
      " [-0.3977177  -0.03037131 -1.91933902  1.6799091 ]]\n"
     ]
    }
   ],
   "source": [
    "from numpy.random import randn\n",
    "\n",
    "a3=randn(5,4)\n",
    "print(a3)"
   ]
  },
  {
   "cell_type": "code",
   "execution_count": null,
   "metadata": {},
   "outputs": [],
   "source": [
    "# for more universal functions \n",
    "import webbrowser\n",
    "url = \"http://docs.scipy.org/doc/numpy/reference/ufuncs.html#available-ufuncs\"\n",
    "webbrowser.open(url)"
   ]
  },
  {
   "cell_type": "code",
   "execution_count": null,
   "metadata": {},
   "outputs": [],
   "source": [
    "mx1"
   ]
  },
  {
   "cell_type": "code",
   "execution_count": 8,
   "metadata": {},
   "outputs": [],
   "source": [
    "np.savetxt('mx_data.txt', mx1, delimiter=',')"
   ]
  },
  {
   "cell_type": "code",
   "execution_count": 9,
   "metadata": {},
   "outputs": [
    {
     "name": "stdout",
     "output_type": "stream",
     "text": [
      "[[ 0.  1.  2.  3.  4.  5.  6.  7.  8.  9.]\n",
      " [10. 11. 12. 13. 14. 15. 16. 17. 18. 19.]\n",
      " [20. 21. 22. 23. 24. 25. 26. 27. 28. 29.]\n",
      " [30. 31. 32. 33. 34. 35. 36. 37. 38. 39.]\n",
      " [40. 41. 42. 43. 44. 45. 46. 47. 48. 49.]\n",
      " [50. 51. 52. 53. 54. 55. 56. 57. 58. 59.]\n",
      " [60. 61. 62. 63. 64. 65. 66. 67. 68. 69.]\n",
      " [70. 71. 72. 73. 74. 75. 76. 77. 78. 79.]]\n"
     ]
    }
   ],
   "source": [
    "mx10=np.loadtxt('mx_data.txt', delimiter=',')\n",
    "print(mx10)"
   ]
  },
  {
   "cell_type": "code",
   "execution_count": 1,
   "metadata": {},
   "outputs": [
    {
     "name": "stdout",
     "output_type": "stream",
     "text": [
      "[( 1.,  1.,  1.,  1.,  1.) ( 2.,  2.,  2.,  2.,  2.)\n",
      " ( 3.,  3.,  3.,  3.,  3.) ( 4.,  4.,  4.,  4.,  4.)\n",
      " ( 5.,  5.,  5.,  5.,  5.) ( 6.,  6.,  6.,  6.,  6.)\n",
      " ( 7.,  7.,  7.,  7.,  7.) ( 8.,  8.,  8.,  8.,  8.)\n",
      " ( 9.,  9.,  9.,  9.,  9.) (10., 10., 10., 10., 10.)] \n",
      "\n",
      "(10., 10., 10., 10., 10.)\n"
     ]
    }
   ],
   "source": [
    "# import data from csv files\n",
    "# you can then manipulate the data\n",
    "\n",
    "import numpy as np\n",
    "\n",
    "d1=np.genfromtxt('sample.csv', delimiter=',', names=True)\n",
    "print(d1,'\\n')\n",
    "print (d1[9])"
   ]
  },
  {
   "cell_type": "code",
   "execution_count": 5,
   "metadata": {},
   "outputs": [
    {
     "name": "stdout",
     "output_type": "stream",
     "text": [
      "[148. 129. 170. 164. 136. 125. 137. 130. 166. 129. 170.  94. 180. 149.\n",
      " 160. 131. 160. 155. 177. 121. 151. 130. 180. 152. 147. 161.] \n",
      "\n"
     ]
    }
   ],
   "source": [
    "import numpy as np\n",
    "import csv\n",
    "\n",
    "f=open('scores.csv','r')\n",
    "\n",
    "ls=list(f)\n",
    "arr=np.array(ls).astype(np.float64)\n",
    "print(arr,'\\n')"
   ]
  },
  {
   "cell_type": "code",
   "execution_count": null,
   "metadata": {},
   "outputs": [],
   "source": []
  }
 ],
 "metadata": {
  "kernelspec": {
   "display_name": "Python 3",
   "language": "python",
   "name": "python3"
  },
  "language_info": {
   "codemirror_mode": {
    "name": "ipython",
    "version": 3
   },
   "file_extension": ".py",
   "mimetype": "text/x-python",
   "name": "python",
   "nbconvert_exporter": "python",
   "pygments_lexer": "ipython3",
   "version": "3.6.5"
  }
 },
 "nbformat": 4,
 "nbformat_minor": 1
}
