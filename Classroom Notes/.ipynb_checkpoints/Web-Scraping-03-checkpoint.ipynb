{
 "cells": [
  {
   "cell_type": "markdown",
   "metadata": {},
   "source": [
    "### Web Scraping-03 (Example Project)"
   ]
  },
  {
   "cell_type": "markdown",
   "metadata": {},
   "source": [
    " ##### Useful if you plan to do a project in HTML parsing using Beautiful Soup"
   ]
  },
  {
   "cell_type": "code",
   "execution_count": null,
   "metadata": {},
   "outputs": [],
   "source": [
    "from bs4 import BeautifulSoup\n",
    "from urllib.request import urlopen\n",
    "import requests\n",
    "\n",
    "r = requests.get('http://www.aflcio.org/Legislation-and-Politics/Legislative-Alerts')\n",
    "c=r.text\n",
    "#print(c)\n",
    "soup = BeautifulSoup(c, 'html.parser')\n",
    "\n",
    "#{'class':'block block-content col-12 col-lg-4'}\n",
    "x=soup.find_all(\"div\", class_=\"block block-content col-12 col-lg-4\")\n",
    "for item in x:\n",
    "    print(item)\n",
    "    print('--------------------------------------------------')"
   ]
  },
  {
   "cell_type": "code",
   "execution_count": null,
   "metadata": {},
   "outputs": [],
   "source": [
    "lobbying = {} \n",
    "for element in x:\n",
    "    lobbying[element.h2.get_text().rstrip()] = {}\n",
    "\n",
    "#print (lobbying)  # This is a dictionary object\n",
    "for key,value in lobbying.items(): \n",
    "    print(key,value)"
   ]
  },
  {
   "cell_type": "code",
   "execution_count": null,
   "metadata": {},
   "outputs": [],
   "source": [
    "x[0].a[\"href\"]\n"
   ]
  },
  {
   "cell_type": "code",
   "execution_count": null,
   "metadata": {},
   "outputs": [],
   "source": [
    "prefix = \"www.aflcio.org\"\n",
    "for element in x:\n",
    "    lobbying[element.h2.get_text().rstrip()][\"link\"] = prefix + element.a[\"href\"]\n",
    "\n",
    "for key,value in lobbying.items(): \n",
    "    print(key,value, sep='\\n', end='\\n\\n')"
   ]
  },
  {
   "cell_type": "code",
   "execution_count": null,
   "metadata": {},
   "outputs": [],
   "source": [
    "t=(x[0].find(\"time\"))\n",
    "print(t)\n",
    "print(t.get_text())"
   ]
  },
  {
   "cell_type": "code",
   "execution_count": null,
   "metadata": {},
   "outputs": [],
   "source": [
    "for element in x:\n",
    "    date = element.find(\"time\").get_text()\n",
    "    lobbying[element.h2.get_text().rstrip()][\"date\"] = date\n",
    "    \n",
    "for key,value in lobbying.items(): \n",
    "    print(key,value, sep='\\n', end='\\n\\n')"
   ]
  },
  {
   "cell_type": "code",
   "execution_count": null,
   "metadata": {},
   "outputs": [],
   "source": [
    "for item in lobbying.keys():\n",
    "    print (item + \": \" + \"\\n\\t\" + \"link: \" + lobbying[item][\"link\"] + \"\\n\\t\" + \"date: \" + lobbying[item][\"date\"] + \"\\n\\n\") "
   ]
  },
  {
   "cell_type": "code",
   "execution_count": null,
   "metadata": {},
   "outputs": [],
   "source": [
    "import json\n",
    "\n",
    "with open(\"lobbying.json\", \"w\") as writeJSON:\n",
    "    json.dump(lobbying, writeJSON)"
   ]
  },
  {
   "cell_type": "code",
   "execution_count": null,
   "metadata": {},
   "outputs": [],
   "source": [
    "# Read: https://docs.python.org/2/library/os.html\n",
    "\n",
    "import csv\n",
    "\n",
    "with open(\"lobbying.csv\", \"w\") as toWrite:\n",
    "    writer = csv.writer(toWrite, delimiter=\",\")\n",
    "    writer.writerow([\"name\", \"link\", \"date\"])\n",
    "    for a in lobbying.keys():\n",
    "        writer.writerow([a, lobbying[a][\"link\"], lobbying[a][\"date\"]])\n"
   ]
  },
  {
   "cell_type": "code",
   "execution_count": null,
   "metadata": {},
   "outputs": [],
   "source": []
  }
 ],
 "metadata": {
  "kernelspec": {
   "display_name": "Python 3",
   "language": "python",
   "name": "python3"
  },
  "language_info": {
   "codemirror_mode": {
    "name": "ipython",
    "version": 3
   },
   "file_extension": ".py",
   "mimetype": "text/x-python",
   "name": "python",
   "nbconvert_exporter": "python",
   "pygments_lexer": "ipython3",
   "version": "3.6.4"
  }
 },
 "nbformat": 4,
 "nbformat_minor": 1
}
