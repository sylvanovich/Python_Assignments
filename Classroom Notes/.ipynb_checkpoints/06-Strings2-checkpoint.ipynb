{
 "cells": [
  {
   "cell_type": "markdown",
   "metadata": {},
   "source": [
    "### Strings"
   ]
  },
  {
   "cell_type": "markdown",
   "metadata": {},
   "source": [
    "###### Agenda\n",
    "Indexing Strings<br>\n",
    "Immutability of Strings<br>\n",
    "Traversing Strings<br>\n",
    "Slicing Strings<br>\n",
    "String Methods<br>\n",
    "Parsing Strings<hr>\n"
   ]
  },
  {
   "cell_type": "markdown",
   "metadata": {},
   "source": [
    "###### String Indexing\n",
    "<img src=\"https://developers.google.com/edu/python/images/hello.png\">\n",
    "<font size=-2>\n",
    "<p  style=\"text-align:right\">&copy; Google</p>\n",
    "</font>"
   ]
  },
  {
   "cell_type": "code",
   "execution_count": null,
   "metadata": {},
   "outputs": [],
   "source": [
    "# string - sequence of characters\n",
    "# indexing strings - to access individual characters in a string\n",
    "\n",
    "s='hello'\n",
    "si=s[5]\n",
    "print (si)\n",
    "\n",
    "print(s[-1])\n",
    "print(len(s))\n",
    "# len function\n",
    "# index error "
   ]
  },
  {
   "cell_type": "code",
   "execution_count": null,
   "metadata": {
    "scrolled": true
   },
   "outputs": [],
   "source": [
    "# Immutability of Strings\n",
    "name='Tim'\n",
    "print(name[0])\n",
    "name += 'othy'\n",
    "print (name)"
   ]
  },
  {
   "cell_type": "markdown",
   "metadata": {},
   "source": [
    "###### Traversing Strings\n",
    "Traversing simply involves examining the string to process one character at a time. Typically, we start from the beginning, select each character, process it, and then repeat this process until the desired end point. <br>\n",
    "\n",
    "Exercise: <br>\n",
    "Traverse the String and print the individual characters in a string.<br>\n",
    "Ask the user to enter a number and then print the total of the individual digits.  If the user enters 1234, the program would print 10 (i.e. the sum of 1+2+3+4)<br>\n"
   ]
  },
  {
   "cell_type": "code",
   "execution_count": null,
   "metadata": {},
   "outputs": [],
   "source": [
    "coffee='starbucks'\n",
    "print(type(coffee))\n",
    "num = 0\n",
    "while num < len(coffee):\n",
    "    letter = coffee[num]\n",
    "    print (num, letter)\n",
    "    num += 1"
   ]
  },
  {
   "cell_type": "code",
   "execution_count": null,
   "metadata": {},
   "outputs": [],
   "source": [
    "for number in range(len(coffee)):\n",
    "    print (coffee[number])"
   ]
  },
  {
   "cell_type": "code",
   "execution_count": null,
   "metadata": {},
   "outputs": [],
   "source": [
    "for letter in coffee:\n",
    "    print (letter)"
   ]
  },
  {
   "cell_type": "markdown",
   "metadata": {},
   "source": [
    "##### String Slicing\n",
    "<img src=\"http://www.nltk.org/images/string-slicing.png\">\n",
    "<font size=-2>\n",
    "<p  style=\"text-align:right\">&copy; nltk</p>\n",
    "</font>"
   ]
  },
  {
   "cell_type": "code",
   "execution_count": null,
   "metadata": {},
   "outputs": [],
   "source": [
    "# String Slicing - sequence of characters taken from the string\n",
    "\n",
    "s='hello'\n",
    "mp='monty python'\n",
    "sliced=mp[-12:-7]\n",
    "print (sliced)"
   ]
  },
  {
   "cell_type": "code",
   "execution_count": null,
   "metadata": {},
   "outputs": [],
   "source": [
    "name=\"programming\"\n",
    "print(name[3:])\n",
    "print(name[:2])"
   ]
  },
  {
   "cell_type": "code",
   "execution_count": null,
   "metadata": {},
   "outputs": [],
   "source": [
    "for n in range(len(s)):\n",
    "    sliced=s[:n]\n",
    "    print (n)\n",
    "    print (sliced)"
   ]
  },
  {
   "cell_type": "code",
   "execution_count": null,
   "metadata": {},
   "outputs": [],
   "source": [
    "# testing string with 'in' or 'not in' operators\n",
    "\n",
    "text='hello, are you there?'\n",
    "sliced='hllo'\n",
    "if (sliced in text):\n",
    "    print ('sub-string found in text')\n",
    "else:\n",
    "    print ('sub-string not found in text')"
   ]
  },
  {
   "cell_type": "markdown",
   "metadata": {
    "collapsed": true
   },
   "source": [
    "Exercise: <br>\n",
    "1) Write a program to count the number of times the letter E (both uppercase and lowercase) appears in a string that the user provides. <br>\n",
    "2) Write a user-defined function called gen_login_id(first,last) that takes first and last name as parameters and generates a default user login id that takes the first three letters of first name and last three letters of last name. The function will return this generated login ID. (Optional: import this function as a module and use it in a different fragment of code to call on it).<br>"
   ]
  },
  {
   "cell_type": "markdown",
   "metadata": {},
   "source": [
    "#### String Methods"
   ]
  },
  {
   "cell_type": "markdown",
   "metadata": {},
   "source": [
    "Method is a function that belongs to an object and performs some operations on that object.  String objects in python have numerous methods to perform specific operations on the string. The general format is <font color = 'red'>stringvariable.method(argument) </font><br>\n",
    "\n",
    "See below for a some useful examples.<br>"
   ]
  },
  {
   "cell_type": "code",
   "execution_count": null,
   "metadata": {},
   "outputs": [],
   "source": [
    "# string testing methods\n",
    "# isalnum(), isalpha(), isdigit(),islower(), isupper(), isspace()\n",
    "# returns true if condition is satisfied and is at least one character in length.\n",
    "\n",
    "ts=\"1234\"\n",
    "bv=ts.isdigit()\n",
    "print(bv)\n",
    "\n",
    "mp='monty python'\n",
    "test=mp.islower()\n",
    "print(test)"
   ]
  },
  {
   "cell_type": "code",
   "execution_count": null,
   "metadata": {},
   "outputs": [],
   "source": [
    "# using string methods to perform an operation on a string\n",
    "# Summing the digits of number\n",
    "\n",
    "num=input('Enter a number: ')\n",
    "total=0\n",
    "if num.isdigit():\n",
    "    for digit in num:\n",
    "        print (digit, type(digit))\n",
    "        total+=int(digit)\n",
    "    print ('Total is:', total)\n",
    "else:\n",
    "    print('Please enter a valid number')"
   ]
  },
  {
   "cell_type": "code",
   "execution_count": null,
   "metadata": {},
   "outputs": [],
   "source": [
    "# string modification methods\n",
    "# split(), replace(old, new)\n",
    "\n",
    "mp='monty python'\n",
    "print (mp.split())    # returns a list... more on lists in the next module\n",
    "print (mp.split('p'))\n",
    "newStr=mp.replace('py', 'cy')\n",
    "print(mp)\n",
    "print(newStr)"
   ]
  },
  {
   "cell_type": "code",
   "execution_count": null,
   "metadata": {},
   "outputs": [],
   "source": [
    "# strip(), lstrip(), rstrip()\n",
    "\n",
    "mystr='  hello world  '\n",
    "mystr1=mystr.strip()\n",
    "print (mystr, len(mystr)) \n",
    "print (mystr1, len(mystr1))"
   ]
  },
  {
   "cell_type": "code",
   "execution_count": null,
   "metadata": {},
   "outputs": [],
   "source": [
    "# more string methods\n",
    "# startswith(substring), endswith(substring), find(substring)\n",
    "\n",
    "test=mp.endswith('thon')  # returns boolean value\n",
    "print (test)\n",
    "\n",
    "test=mp.startswith('mty')  # returns boolean value\n",
    "print (test)\n",
    "\n",
    "test=mp.find('python') # method returns lowest index in the string if substring is found \n",
    "print (test)           # replace python with 'mnty'; method returns -1 if substring is not found"
   ]
  },
  {
   "cell_type": "markdown",
   "metadata": {},
   "source": [
    "Exercise: Please write a program to ask the user to input an email (for example: nk999@domainname.com) and then separate the userid from the email and print it.  In the example above, the print output would be nk999."
   ]
  },
  {
   "cell_type": "code",
   "execution_count": null,
   "metadata": {},
   "outputs": [],
   "source": [
    "email='kevin.craig@baruch.cuny.edu'\n",
    "ipos=email.find('@')\n",
    "print (ipos);\n",
    "userid=email[:ipos]\n",
    "print (userid)\n",
    "ipos2=email.find('.')\n",
    "print (ipos2)\n",
    "domain=email[(ipos+1):ipos2]\n",
    "print (domain)\n",
    "\n",
    "# potential errors and correction (userid-dot, if userid-dot rewrite, missing-@)?"
   ]
  },
  {
   "cell_type": "code",
   "execution_count": null,
   "metadata": {},
   "outputs": [],
   "source": [
    "# Program to print domain name from email.  In the above example (nk999@domainname.com), the output should be domainname \n",
    "\n",
    "ipos=email.find('@')\n",
    "domain=email[(ipos+1):]\n",
    "print (domain)\n",
    "ipos2=domain.find('.')\n",
    "print (ipos2)\n",
    "domain2=domain[:ipos2]\n",
    "print (domain2)"
   ]
  },
  {
   "cell_type": "code",
   "execution_count": null,
   "metadata": {},
   "outputs": [],
   "source": []
  },
  {
   "cell_type": "code",
   "execution_count": null,
   "metadata": {},
   "outputs": [],
   "source": []
  }
 ],
 "metadata": {
  "kernelspec": {
   "display_name": "Python 3",
   "language": "python",
   "name": "python3"
  },
  "language_info": {
   "codemirror_mode": {
    "name": "ipython",
    "version": 3
   },
   "file_extension": ".py",
   "mimetype": "text/x-python",
   "name": "python",
   "nbconvert_exporter": "python",
   "pygments_lexer": "ipython3",
   "version": "3.7.1"
  }
 },
 "nbformat": 4,
 "nbformat_minor": 1
}
