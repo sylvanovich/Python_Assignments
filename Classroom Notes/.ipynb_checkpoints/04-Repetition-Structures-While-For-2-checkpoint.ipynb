{
 "cells": [
  {
   "cell_type": "markdown",
   "metadata": {},
   "source": [
    "### Repetition Structures"
   ]
  },
  {
   "cell_type": "markdown",
   "metadata": {},
   "source": [
    "##### Two broad categories of repetition structures (loops): \n",
    "condition-controlled loop (while)<br>\n",
    "count-controlled loop (for) <hr>\n",
    "##### Additional Topics: \n",
    "Augmented Assignment Operators <br>\n",
    "Sentinel <br>\n",
    "More input Validation <hr>\n"
   ]
  },
  {
   "cell_type": "code",
   "execution_count": 14,
   "metadata": {},
   "outputs": [
    {
     "name": "stdout",
     "output_type": "stream",
     "text": [
      "1\n",
      "2\n",
      "3\n",
      "4\n",
      "5\n",
      "done\n"
     ]
    }
   ],
   "source": [
    "flag=True   # Boolean variable\n",
    "n=1\n",
    "while flag:\n",
    "    print (n)\n",
    "    n=n+1\n",
    "    if n>5:\n",
    "        flag=False\n",
    "print ('done')\n",
    "# what happens if I remove the if condition? If you try it, you will need to stop the kernel\n",
    "# simpler way of writing the same code segment?"
   ]
  },
  {
   "cell_type": "code",
   "execution_count": 15,
   "metadata": {},
   "outputs": [
    {
     "name": "stdout",
     "output_type": "stream",
     "text": [
      "1\n",
      "2\n",
      "3\n",
      "4\n",
      "5\n",
      "done\n"
     ]
    }
   ],
   "source": [
    "# more elegant than the previous example\n",
    "n=1\n",
    "while n<=5:\n",
    "    print (n)\n",
    "    n=n+1\n",
    "print ('done')"
   ]
  },
  {
   "cell_type": "markdown",
   "metadata": {},
   "source": [
    "Exercise: Write a program to calculate the salary of multiple employees (modify the previously written program). In addition to requesting the user to input the hourly rate and the number of hours, you will also check if the user has finished entering data about employees and whether she would like to stop.  "
   ]
  },
  {
   "cell_type": "code",
   "execution_count": 16,
   "metadata": {},
   "outputs": [
    {
     "name": "stdout",
     "output_type": "stream",
     "text": [
      "Enter First Name: kannan\n",
      "kannan\n",
      "Do you have more names?y\n",
      "Enter First Name: mohan\n",
      "mohan\n",
      "Do you have more names?y\n",
      "Enter First Name: olivia\n",
      "olivia\n",
      "Do you have more names?n\n",
      "done with the loop\n"
     ]
    }
   ],
   "source": [
    "MoreNames='y'\n",
    "while MoreNames=='y':\n",
    "    name=input('Enter First Name: ')\n",
    "    print (name)\n",
    "    MoreNames=input('Do you have more names?')\n",
    "print ('done with the loop')"
   ]
  },
  {
   "cell_type": "code",
   "execution_count": 17,
   "metadata": {},
   "outputs": [
    {
     "name": "stdout",
     "output_type": "stream",
     "text": [
      "1\n",
      "2\n",
      "3\n",
      "4\n",
      "5\n",
      "done\n"
     ]
    }
   ],
   "source": [
    "for num in [1,2,3,4,5]:\n",
    "    print (num)\n",
    "print ('done')"
   ]
  },
  {
   "cell_type": "code",
   "execution_count": 18,
   "metadata": {},
   "outputs": [
    {
     "name": "stdout",
     "output_type": "stream",
     "text": [
      "tim\n",
      "jim\n",
      "kim\n",
      "done\n"
     ]
    }
   ],
   "source": [
    "# Loop to print a list of strings\n",
    "for name in ['tim', 'jim', 'kim']:\n",
    "    print (name)\n",
    "print('done')"
   ]
  },
  {
   "cell_type": "markdown",
   "metadata": {},
   "source": [
    "Exercises: <br>\n",
    "Rewrite the salary computation example above using for loop.  How will you change the program? <br>\n",
    "Write a program to display the first five positive even numbers (using for loop).<br>"
   ]
  },
  {
   "cell_type": "code",
   "execution_count": 19,
   "metadata": {},
   "outputs": [
    {
     "name": "stdout",
     "output_type": "stream",
     "text": [
      "0\n",
      "1\n",
      "2\n",
      "3\n",
      "4\n",
      "done\n"
     ]
    }
   ],
   "source": [
    "# for loops and range function\n",
    "# range function creates an iterable object that generates a sequence of values\n",
    "\n",
    "for num in range(5):\n",
    "    print (num)\n",
    "print('done')\n",
    "\n",
    "# mini-exercise: use the range function to print the numbers 1 through 5."
   ]
  },
  {
   "cell_type": "code",
   "execution_count": 22,
   "metadata": {},
   "outputs": [
    {
     "name": "stdout",
     "output_type": "stream",
     "text": [
      "1\n",
      "3\n",
      "5\n",
      "done\n"
     ]
    }
   ],
   "source": [
    "# More range... range (1,6); range (x,y,z)\n",
    "\n",
    "for num in range(1,6,2):\n",
    "    print (num)\n",
    "print('done')\n",
    "\n",
    "# mini-exercise: use the range function to print numbers 10 to 1."
   ]
  },
  {
   "cell_type": "markdown",
   "metadata": {},
   "source": [
    "Exercise: Write a program to calculate the sum of the first ten positive integers using the for loop"
   ]
  },
  {
   "cell_type": "code",
   "execution_count": null,
   "metadata": {},
   "outputs": [],
   "source": [
    "# Augumented Assignment Operation\n",
    "x=10\n",
    "x+=1\n",
    "print(x)\n",
    "x*=2\n",
    "print(x)"
   ]
  },
  {
   "cell_type": "markdown",
   "metadata": {},
   "source": [
    "##### Sentinels\n",
    "Sentinels are special values to mark the end of sequence of values. <br>\n",
    "Can be used instead of what we have done before in this module (ask the user to indicate whether they are done or ask them a count of iterations they expect for their task.<br>\n",
    "Example: Designate a carefully chosen value to indicate end of sequence of values.  For example, 0 for employee id<br>"
   ]
  },
  {
   "cell_type": "markdown",
   "metadata": {
    "collapsed": true
   },
   "source": [
    "##### More Input Validation\n",
    "For Gross Pay, think of other ways errors can be made during the user input stage.<br>\n",
    "Write a program to guard against it.<br>"
   ]
  },
  {
   "cell_type": "code",
   "execution_count": 23,
   "metadata": {},
   "outputs": [
    {
     "name": "stdout",
     "output_type": "stream",
     "text": [
      "**********\n",
      "**********\n",
      "**********\n",
      "**********\n",
      "**********\n"
     ]
    }
   ],
   "source": [
    "# Nested Loops\n",
    "for row in range (5):\n",
    "    for column in range (10):\n",
    "        print('*', end='')\n",
    "    print()"
   ]
  },
  {
   "cell_type": "markdown",
   "metadata": {},
   "source": [
    "##### More While Loop (Find largest and smallest)"
   ]
  },
  {
   "cell_type": "code",
   "execution_count": 24,
   "metadata": {},
   "outputs": [
    {
     "name": "stdout",
     "output_type": "stream",
     "text": [
      "The largest number so far is:  23\n",
      "The largest number so far is:  23\n",
      "The largest number so far is:  69\n",
      "The largest number so far is:  234\n",
      "The largest number so far is:  234\n",
      "The largest number so far is:  234\n",
      "done with the loop\n",
      "The largest number is:  234\n"
     ]
    }
   ],
   "source": [
    "largest=-1\n",
    "for num in [23,12,69,234,2,-56]:\n",
    "    if num>largest:\n",
    "        largest=num\n",
    "    print('The largest number so far is: ', largest)\n",
    "print('done with the loop')\n",
    "print('The largest number is: ', largest)"
   ]
  },
  {
   "cell_type": "code",
   "execution_count": 25,
   "metadata": {},
   "outputs": [
    {
     "name": "stdout",
     "output_type": "stream",
     "text": [
      "The largest number so far is:  -1\n",
      "The largest number so far is:  -1\n",
      "The largest number so far is:  -1\n",
      "The largest number so far is:  -1\n",
      "The largest number so far is:  -1\n",
      "The largest number so far is:  -1\n",
      "done with the loop\n",
      "The largest number is:  -1\n"
     ]
    }
   ],
   "source": [
    "largest=-1\n",
    "for num in [-23,-12,-69,-234,-2,-56]:\n",
    "    if num>largest:\n",
    "        largest=num\n",
    "    print('The largest number so far is: ', largest)\n",
    "print('done with the loop')\n",
    "print('The largest number is: ', largest)\n",
    "#What is wrong with what we just did?"
   ]
  },
  {
   "cell_type": "code",
   "execution_count": 26,
   "metadata": {},
   "outputs": [
    {
     "name": "stdout",
     "output_type": "stream",
     "text": [
      "The largest number so far is:  -23\n",
      "The largest number so far is:  -12\n",
      "The largest number so far is:  -12\n",
      "The largest number so far is:  -12\n",
      "The largest number so far is:  -12\n",
      "The largest number so far is:  -12\n",
      "The largest number so far is:  -6\n",
      "done with the loop\n",
      "The largest number is:  -6\n"
     ]
    }
   ],
   "source": [
    "largest=None\n",
    "for num in [-23,-12,-69,-234,-22,-56,-6]:\n",
    "    if largest is None:\n",
    "        largest=num\n",
    "    elif num>largest:\n",
    "        largest=num\n",
    "    print('The largest number so far is: ', largest)\n",
    "print('done with the loop')\n",
    "print('The largest number is: ', largest)"
   ]
  },
  {
   "cell_type": "code",
   "execution_count": 27,
   "metadata": {},
   "outputs": [
    {
     "name": "stdout",
     "output_type": "stream",
     "text": [
      "The smallest number so far is:  23\n",
      "The smallest number so far is:  12\n",
      "The smallest number so far is:  -69\n",
      "The smallest number so far is:  -69\n",
      "The smallest number so far is:  -69\n",
      "The smallest number so far is:  -69\n",
      "done with the loop\n",
      "The smallest number is:  -69\n"
     ]
    }
   ],
   "source": [
    "small=None\n",
    "for num in [23,12,-69,234,2,56]:\n",
    "    if small == None: # is operator stronger than == operator but both will work hereand can also be used here\n",
    "        small=num\n",
    "    elif num<small:\n",
    "        small=num\n",
    "    print('The smallest number so far is: ', small)\n",
    "print('done with the loop')\n",
    "print('The smallest number is: ', small)"
   ]
  },
  {
   "cell_type": "code",
   "execution_count": null,
   "metadata": {},
   "outputs": [],
   "source": []
  }
 ],
 "metadata": {
  "kernelspec": {
   "display_name": "Python 3",
   "language": "python",
   "name": "python3"
  },
  "language_info": {
   "codemirror_mode": {
    "name": "ipython",
    "version": 3
   },
   "file_extension": ".py",
   "mimetype": "text/x-python",
   "name": "python",
   "nbconvert_exporter": "python",
   "pygments_lexer": "ipython3",
   "version": "3.6.4"
  }
 },
 "nbformat": 4,
 "nbformat_minor": 1
}
