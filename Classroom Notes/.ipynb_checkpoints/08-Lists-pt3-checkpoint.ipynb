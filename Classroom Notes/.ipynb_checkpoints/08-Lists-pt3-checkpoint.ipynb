{
 "cells": [
  {
   "cell_type": "markdown",
   "metadata": {
    "collapsed": true
   },
   "source": [
    "#### Lists Part 3: More List operations and Tuples"
   ]
  },
  {
   "cell_type": "code",
   "execution_count": 1,
   "metadata": {},
   "outputs": [
    {
     "name": "stdout",
     "output_type": "stream",
     "text": [
      "['Big Lebowski', 1998, ['Coen Brothers', ['Jeff Bridges', 'Juliana Moore', 'John Goodman']]]\n"
     ]
    }
   ],
   "source": [
    "#look at one movie \"Big Lebowski\"\n",
    "cast1=['Jeff Bridges', 'Juliana Moore', 'John Goodman']\n",
    "crew1=['Coen Brothers', cast1]\n",
    "mov1=['Big Lebowski', 1998, crew1]\n",
    "print(mov1)"
   ]
  },
  {
   "cell_type": "code",
   "execution_count": 2,
   "metadata": {},
   "outputs": [
    {
     "name": "stdout",
     "output_type": "stream",
     "text": [
      "Big Lebowski\n",
      "1998\n",
      "['Coen Brothers', ['Jeff Bridges', 'Juliana Moore', 'John Goodman']]\n",
      "3\n"
     ]
    }
   ],
   "source": [
    "for item in mov1:\n",
    "    print(item)\n",
    "print(len(mov1))"
   ]
  },
  {
   "cell_type": "code",
   "execution_count": null,
   "metadata": {},
   "outputs": [],
   "source": [
    "s=\"abc\"\n",
    "print(isinstance(s, list))\n",
    "ls=list(s)\n",
    "print(s,ls)\n",
    "print(isinstance(ls,list))"
   ]
  },
  {
   "cell_type": "code",
   "execution_count": null,
   "metadata": {},
   "outputs": [],
   "source": [
    "# nested one level\n",
    "\n",
    "for item in mov1:\n",
    "    if isinstance(item, list):\n",
    "        for nested_item in item:\n",
    "            print(nested_item)\n",
    "    else:\n",
    "        print(item)"
   ]
  },
  {
   "cell_type": "code",
   "execution_count": null,
   "metadata": {},
   "outputs": [],
   "source": [
    "# nested two levels; \n",
    "\n",
    "for item in mov1:\n",
    "    if isinstance(item, list):\n",
    "        for nested_item in item:\n",
    "            if isinstance(nested_item, list):\n",
    "                for deeper_item in nested_item:\n",
    "                    print(deeper_item)\n",
    "            else:\n",
    "                print(nested_item)\n",
    "    else:\n",
    "        print(item)\n",
    "        \n",
    "# multi-levels?"
   ]
  },
  {
   "cell_type": "code",
   "execution_count": null,
   "metadata": {},
   "outputs": [],
   "source": [
    "# recursive function\n",
    "\n",
    "def print_list(the_list):\n",
    "    for item in the_list:\n",
    "        if isinstance(item, list):\n",
    "            print_list(item)\n",
    "        else:\n",
    "            print(item)\n",
    "\n",
    "# Invoke the function\n",
    "print_list(mov1)"
   ]
  },
  {
   "cell_type": "markdown",
   "metadata": {},
   "source": [
    "#### Tuples <br>\n",
    "Tuples are special cases of Lists (just like strings); They are immutable<br>\n",
    "Why Tuples?<br>"
   ]
  },
  {
   "cell_type": "code",
   "execution_count": null,
   "metadata": {},
   "outputs": [],
   "source": [
    "tup=(1,2,3)\n",
    "print(tup, type(tup))"
   ]
  },
  {
   "cell_type": "code",
   "execution_count": null,
   "metadata": {},
   "outputs": [],
   "source": [
    "tup=(1,)\n",
    "print(tup, type(tup))"
   ]
  },
  {
   "cell_type": "code",
   "execution_count": null,
   "metadata": {},
   "outputs": [],
   "source": [
    "t = 1,2,3,2\n",
    "print(t)\n",
    "c=t.count(2)\n",
    "print (c)"
   ]
  },
  {
   "cell_type": "code",
   "execution_count": null,
   "metadata": {},
   "outputs": [],
   "source": [
    "t=tuple()\n",
    "print(t)"
   ]
  },
  {
   "cell_type": "code",
   "execution_count": null,
   "metadata": {
    "collapsed": true
   },
   "outputs": [],
   "source": [
    "# built-in methods\n",
    "# any method that modifies the tuple would not be supported\n",
    "# methods supported: count, index"
   ]
  },
  {
   "cell_type": "code",
   "execution_count": null,
   "metadata": {},
   "outputs": [],
   "source": [
    "t=tuple()\n",
    "t=t+(12,13)\n",
    "print(t)\n",
    "t=t[1:]+(14,15)\n",
    "print(t)"
   ]
  },
  {
   "cell_type": "code",
   "execution_count": null,
   "metadata": {
    "collapsed": true
   },
   "outputs": [],
   "source": []
  }
 ],
 "metadata": {
  "kernelspec": {
   "display_name": "Python 3",
   "language": "python",
   "name": "python3"
  },
  "language_info": {
   "codemirror_mode": {
    "name": "ipython",
    "version": 3
   },
   "file_extension": ".py",
   "mimetype": "text/x-python",
   "name": "python",
   "nbconvert_exporter": "python",
   "pygments_lexer": "ipython3",
   "version": "3.6.5"
  }
 },
 "nbformat": 4,
 "nbformat_minor": 1
}
