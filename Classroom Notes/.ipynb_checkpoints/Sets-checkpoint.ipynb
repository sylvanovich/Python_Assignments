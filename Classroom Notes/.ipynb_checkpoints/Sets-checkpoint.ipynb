{
 "cells": [
  {
   "cell_type": "code",
   "execution_count": 1,
   "metadata": {},
   "outputs": [
    {
     "name": "stdout",
     "output_type": "stream",
     "text": [
      "{'Zack'}\n"
     ]
    }
   ],
   "source": [
    "#Sets\n",
    "engineers = {'John', 'Jane', 'Jack', 'Janice'}\n",
    "programmers = {'Jack', 'Sam', 'Susan', 'Janice'}\n",
    "managers = {'Jane', 'Jack', 'Susan', 'Zack'}\n",
    "employees = engineers | programmers | managers           # union\n",
    "engineering_management = engineers & managers            # intersection\n",
    "fulltime_management = managers - engineers - programmers # difference\n",
    "engineers.add('Marvin')      # add element\n",
    "print(fulltime_management)"
   ]
  },
  {
   "cell_type": "code",
   "execution_count": null,
   "metadata": {},
   "outputs": [],
   "source": []
  }
 ],
 "metadata": {
  "kernelspec": {
   "display_name": "Python 3",
   "language": "python",
   "name": "python3"
  },
  "language_info": {
   "codemirror_mode": {
    "name": "ipython",
    "version": 3
   },
   "file_extension": ".py",
   "mimetype": "text/x-python",
   "name": "python",
   "nbconvert_exporter": "python",
   "pygments_lexer": "ipython3",
   "version": "3.7.1"
  }
 },
 "nbformat": 4,
 "nbformat_minor": 2
}
