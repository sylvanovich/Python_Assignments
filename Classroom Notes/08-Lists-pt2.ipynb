{
 "cells": [
  {
   "cell_type": "code",
   "execution_count": null,
   "metadata": {},
   "outputs": [],
   "source": [
    "# Aliasing and Functions\n",
    "# Recursion \n",
    "# Nested lists, Matrices\n",
    "# Accessing elements in Nested List"
   ]
  },
  {
   "cell_type": "code",
   "execution_count": 3,
   "metadata": {},
   "outputs": [
    {
     "name": "stdout",
     "output_type": "stream",
     "text": [
      "[2, 3]\n",
      "[1, 2, 3]\n"
     ]
    }
   ],
   "source": [
    "def modlst(a):\n",
    "    a=a[1:]\n",
    "\n",
    "x=[1,2,3]\n",
    "print (modlst(x))\n",
    "print (x)    # x has not changed"
   ]
  },
  {
   "cell_type": "code",
   "execution_count": 2,
   "metadata": {},
   "outputs": [
    {
     "name": "stdout",
     "output_type": "stream",
     "text": [
      "[2, 3]\n",
      "[1, 2, 3]\n"
     ]
    }
   ],
   "source": [
    "def modlst(a):\n",
    "    b=a[1:]\n",
    "    return b\n",
    "\n",
    "x=[1,2,3]\n",
    "print (modlst(x))\n",
    "print (x)     # x has not changed"
   ]
  },
  {
   "cell_type": "code",
   "execution_count": 4,
   "metadata": {},
   "outputs": [
    {
     "name": "stdout",
     "output_type": "stream",
     "text": [
      "None\n",
      "[2, 3]\n"
     ]
    }
   ],
   "source": [
    "def modlst(a):\n",
    "    del a[0]\n",
    "    #a.append(4)\n",
    "    #a[0]=5\n",
    "\n",
    "x=[1,2,3]\n",
    "print (modlst(x))\n",
    "print (x)    # x has changed"
   ]
  },
  {
   "cell_type": "code",
   "execution_count": null,
   "metadata": {},
   "outputs": [],
   "source": [
    "def modlst(a):\n",
    "    del a[0]\n",
    "    b=a[1:]\n",
    "    return b\n",
    "\n",
    "x=[1,2,3]\n",
    "print (modlst(x))\n",
    "print (x)    # x has changed"
   ]
  },
  {
   "cell_type": "markdown",
   "metadata": {},
   "source": [
    "Exercise: <br>\n",
    "1) Write a function takes in a list and a multiplication factor as arguments and multipies each element of the original list by the multiplication factor.  For example, [1,2,3] becomes [10,20,30] if the multiplication factor is 10.<br>\n",
    "2) Write a function takes in a list and a multiplication factor as arguments and returns a list with the elements of the original list multiplied by the multiplication factor without modifying the original list.  <br>"
   ]
  },
  {
   "cell_type": "code",
   "execution_count": null,
   "metadata": {},
   "outputs": [],
   "source": [
    "# solution for exercise above\n",
    "\n",
    "def mulst(lis, f):\n",
    "    for index, value in enumerate(lis):\n",
    "        lis[index]*=f\n",
    "    return lis\n",
    "\n",
    "x=[1,2,3]\n",
    "print (mulst(x, 10))\n",
    "print (x)"
   ]
  },
  {
   "cell_type": "code",
   "execution_count": null,
   "metadata": {},
   "outputs": [],
   "source": [
    "# solution for exercise above\n",
    "\n",
    "def mulst(lis, f):\n",
    "    newlis=[]\n",
    "    for val in lis:\n",
    "        newlis.append(f*val)\n",
    "    return newlis\n",
    "\n",
    "x=[1,2,3]\n",
    "print (mulst(x, 10))\n",
    "print (x)"
   ]
  },
  {
   "cell_type": "code",
   "execution_count": null,
   "metadata": {},
   "outputs": [],
   "source": [
    "# Nested lists can be thought of us matrices (rows and columns)\n",
    "\n",
    "mx=[[1,2,3],[4,5,6],[7,8,9]]\n",
    "# mx has three rows and three columns\n",
    "# each list can be thought of as a row\n",
    "\n",
    "print (mx)\n",
    "print(mx[1])  # access rows\n",
    "print (mx[1][2]) # access a specific element - item on the second row, third column"
   ]
  },
  {
   "cell_type": "code",
   "execution_count": null,
   "metadata": {},
   "outputs": [],
   "source": [
    "# mx can also by entered as shown below to make it read better.\n",
    "\n",
    "mx=[[1,2,3],\n",
    "    [4,5,6],\n",
    "    [7,8,9]]\n",
    "print(mx)"
   ]
  },
  {
   "cell_type": "code",
   "execution_count": 3,
   "metadata": {},
   "outputs": [
    {
     "name": "stdout",
     "output_type": "stream",
     "text": [
      "[[85, 68, 9], [66, 69, 38], [19, 7, 88]]\n"
     ]
    }
   ],
   "source": [
    "# nested list\n",
    "\n",
    "import random\n",
    "\n",
    "ROW=3\n",
    "COL=3\n",
    "\n",
    "val=[[0,0,0],[0,0,0],[0,0,0]]\n",
    "\n",
    "for i in range(ROW):\n",
    "    for j in range(COL):\n",
    "        val[i][j]=random.randint(1,100)\n",
    "\n",
    "print(val)"
   ]
  },
  {
   "cell_type": "code",
   "execution_count": null,
   "metadata": {},
   "outputs": [],
   "source": [
    "# nested list\n",
    "\n",
    "import random\n",
    "\n",
    "ROW=3\n",
    "COL=4\n",
    "\n",
    "val=[[],[],[]]\n",
    "\n",
    "for i in range(ROW):\n",
    "    for j in range(COL):\n",
    "        val[i].append(random.randint(1,100))\n",
    "\n",
    "print(val)"
   ]
  },
  {
   "cell_type": "code",
   "execution_count": 2,
   "metadata": {},
   "outputs": [
    {
     "name": "stdout",
     "output_type": "stream",
     "text": [
      "[[8, 75, 66, 20, 5], [82, 78, 2, 43, 80], [49, 98, 45, 46, 21], [38, 2, 83, 28, 5]]\n"
     ]
    }
   ],
   "source": [
    "# nested list\n",
    "\n",
    "import random\n",
    "\n",
    "ROW=4\n",
    "COL=5\n",
    "\n",
    "val=[]\n",
    "\n",
    "for i in range(ROW):\n",
    "    temp=[]\n",
    "    for j in range(COL):\n",
    "        temp.append(random.randint(1,100))\n",
    "    val.append(temp)\n",
    "\n",
    "print(val)"
   ]
  },
  {
   "cell_type": "code",
   "execution_count": null,
   "metadata": {},
   "outputs": [],
   "source": []
  }
 ],
 "metadata": {
  "kernelspec": {
   "display_name": "Python 3",
   "language": "python",
   "name": "python3"
  },
  "language_info": {
   "codemirror_mode": {
    "name": "ipython",
    "version": 3
   },
   "file_extension": ".py",
   "mimetype": "text/x-python",
   "name": "python",
   "nbconvert_exporter": "python",
   "pygments_lexer": "ipython3",
   "version": "3.7.1"
  }
 },
 "nbformat": 4,
 "nbformat_minor": 1
}
