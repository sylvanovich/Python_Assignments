{
 "cells": [
  {
   "cell_type": "markdown",
   "metadata": {},
   "source": [
    "This code reads a user's \"type\" from a text file that contains a list of users. KevUsers.py is used to create instances of the Student and Admin objects, which inherit from User. The properties of the User are used to grant either read or read/write access to the list of users in the text file. Only an Admin should be able to write to that file. All Users can read the file."
   ]
  },
  {
   "cell_type": "code",
   "execution_count": null,
   "metadata": {},
   "outputs": [],
   "source": [
    "# Testing the KevUser.py User Class and its Children\n",
    "import KevUser\n",
    "newUser = KevUser.User('SomeUser')\n",
    "print (newUser.strName)\n",
    "print (newUser.CanRead())\n",
    "print (newUser.CanWrite())\n",
    "newStudent = KevUser.Student('SomeStudent')\n",
    "print (newStudent.strName)\n",
    "print (newStudent.CanRead())\n",
    "print (newStudent.CanWrite())\n",
    "newAdmin = KevUser.Admin('Kevin')\n",
    "print (newAdmin.strName)\n",
    "print (newAdmin.CanRead())\n",
    "print (newAdmin.CanWrite())"
   ]
  },
  {
   "cell_type": "markdown",
   "metadata": {},
   "source": [
    "Here, we get the user's permissions and use them to determine their ability to read/write."
   ]
  },
  {
   "cell_type": "code",
   "execution_count": null,
   "metadata": {},
   "outputs": [],
   "source": [
    "import KevUser\n",
    "def makeUser(bFound,strName,strUserType):\n",
    "    if bFound == False:\n",
    "        return KevUser.User('Guest')\n",
    "    elif strUserType == 'Admin':\n",
    "        return KevUser.Admin(strName)\n",
    "    elif strUserType == 'Student':\n",
    "        return KevUser.Student(strName)\n",
    "    else:\n",
    "        raise Exception('Kevin, you have bad data in your file.', strUserType)\n",
    "        \n",
    "lUsers = []\n",
    "try:\n",
    "    foUsers = open('UserList.txt','r')\n",
    "    strLine = foUsers.readline()\n",
    "    while strLine != '':\n",
    "        lUsers.append(strLine.rstrip().split(','))\n",
    "        strLine = foUsers.readline()\n",
    "    print (lUsers)\n",
    "except e:\n",
    "    print (e)\n",
    "finally:\n",
    "    print ('sadf')\n",
    "    foUsers.close()\n",
    "strID = input(\"which user ID?\")\n",
    "bFound = False\n",
    "strName = ''\n",
    "strUserType = ''\n",
    "for lUser in lUsers:\n",
    "    if lUser[0] == strID:\n",
    "        bFound = True\n",
    "        strName = lUser[1]\n",
    "        strUserType = lUser[2]\n",
    "thisUser = makeUser(bFound,strName,strUserType)\n",
    "print (thisUser.strName)\n",
    "print (thisUser.CanRead())\n",
    "print (thisUser.CanWrite())"
   ]
  },
  {
   "cell_type": "code",
   "execution_count": null,
   "metadata": {},
   "outputs": [],
   "source": []
  }
 ],
 "metadata": {
  "kernelspec": {
   "display_name": "Python 3",
   "language": "python",
   "name": "python3"
  },
  "language_info": {
   "codemirror_mode": {
    "name": "ipython",
    "version": 3
   },
   "file_extension": ".py",
   "mimetype": "text/x-python",
   "name": "python",
   "nbconvert_exporter": "python",
   "pygments_lexer": "ipython3",
   "version": "3.7.1"
  }
 },
 "nbformat": 4,
 "nbformat_minor": 2
}
