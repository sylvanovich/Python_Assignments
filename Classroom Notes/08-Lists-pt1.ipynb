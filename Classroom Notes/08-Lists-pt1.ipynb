{
 "cells": [
  {
   "cell_type": "markdown",
   "metadata": {},
   "source": [
    "#### Lists\n",
    "##### Agenda\n",
    "What are Lists?<br>\n",
    "Strings Vs. Lists<br>\n",
    "Creating, Indexing and Slicing Lists <br>\n",
    "List Methods <br>\n",
    "Other List Operations <hr>"
   ]
  },
  {
   "cell_type": "markdown",
   "metadata": {
    "collapsed": true
   },
   "source": [
    "A List is a sequence that can hold different types of data. <br>\n",
    "A String is also a sequence, but it holds only one type of data - characters!<br>\n",
    "Unlike strings, lists are mutable <br>\n",
    "Be careful about mutating lists as well as using the List Methods (unintended consequences; more on this later) <br>"
   ]
  },
  {
   "cell_type": "code",
   "execution_count": 29,
   "metadata": {},
   "outputs": [
    {
     "name": "stdout",
     "output_type": "stream",
     "text": [
      "[]\n",
      "<class 'list'>\n"
     ]
    }
   ],
   "source": [
    "numbers=[1,2,3]\n",
    "print(numbers)\n",
    "print(type(numbers))"
   ]
  },
  {
   "cell_type": "code",
   "execution_count": 6,
   "metadata": {},
   "outputs": [
    {
     "name": "stdout",
     "output_type": "stream",
     "text": [
      "What is the string? test\n",
      "test\n",
      "test\n",
      "test\n",
      "test\n",
      "test\n",
      "This is a test\n",
      "[]\n",
      "['Big Lebowski', 'State and Main']\n"
     ]
    }
   ],
   "source": [
    "my_list=[]\n",
    "movies=['Big Lebowski', 'State and Main']\n",
    "\n",
    "def wantRepeat(myString, intNumber):\n",
    "    for i in range(0, intNumber):\n",
    "        print(myString)\n",
    "    print(\"This is a test\")\n",
    "\n",
    "testthis = input(\"What is the string? \")\n",
    "wantRepeat(testthis, 5)\n",
    "\n",
    "testList=[\"I am here to help\"]\n",
    "print (my_list, movies, sep='\\n')\n",
    "\n",
    "#movies.append(my_list)\n",
    "#print(movies)\n",
    "#my_list.append(movies)\n",
    "#print(my_list) # this is a list inside a list (nested)"
   ]
  },
  {
   "cell_type": "code",
   "execution_count": 9,
   "metadata": {},
   "outputs": [
    {
     "name": "stdout",
     "output_type": "stream",
     "text": [
      "What string to repeat?: test\n",
      "test\n",
      "test\n",
      "test\n",
      "test\n",
      "test\n",
      "<function repeatThis at 0x10aa02ea0>\n"
     ]
    }
   ],
   "source": [
    "emptylist = [] \n",
    "\n",
    "def repeatThis(strText, intNumber):\n",
    "    for i in range(intNumber):\n",
    "        print(strText)\n",
    "        \n",
    "userInput = input(\"What string to repeat?: \")\n",
    "\n",
    "repeatThis(userInput, 5)\n"
   ]
  },
  {
   "cell_type": "code",
   "execution_count": 28,
   "metadata": {},
   "outputs": [
    {
     "name": "stdout",
     "output_type": "stream",
     "text": [
      "[1, 2, 3, 1, 2, 3, 1, 2, 3, 1, 2, 3, 1, 2, 3, 1, 2, 3, 'Big Lebowski', 'State and Main']\n"
     ]
    }
   ],
   "source": [
    "my_list+=movies\n",
    "print(my_list)"
   ]
  },
  {
   "cell_type": "code",
   "execution_count": 32,
   "metadata": {},
   "outputs": [
    {
     "name": "stdout",
     "output_type": "stream",
     "text": [
      "[1, 2, 3, 1, 2, 3, 1, 2, 3, 1, 2, 3, 1, 2, 3, 1, 2, 3, 'Big Lebowski', 'State and Main']\n",
      "1\n"
     ]
    }
   ],
   "source": [
    "my_list+=numbers\n",
    "print(my_list)\n",
    "print(my_list[0])\n",
    "\n",
    "# indexing and slicing lists\n",
    "# Grab  second element (index 1) and everything past it\n",
    "# Grab everything upto the 4th element"
   ]
  },
  {
   "cell_type": "code",
   "execution_count": 5,
   "metadata": {},
   "outputs": [
    {
     "name": "stdout",
     "output_type": "stream",
     "text": [
      "Big Lebowski\n",
      "State and Main\n"
     ]
    }
   ],
   "source": [
    "# accessing items of a list\n",
    "for item in movies:\n",
    "    print (item)"
   ]
  },
  {
   "cell_type": "markdown",
   "metadata": {},
   "source": [
    "##### Exercise: \n",
    "1) Take a positive integer as an input from the user; construct a list of numbers upto n. <br>\n",
    "2) Write piece of iterative code to mutiply the elements of a given list by 10 (assume that the list already exists).<br>"
   ]
  },
  {
   "cell_type": "code",
   "execution_count": 35,
   "metadata": {},
   "outputs": [
    {
     "name": "stdout",
     "output_type": "stream",
     "text": [
      "h\n"
     ]
    }
   ],
   "source": [
    "# Strings and Lists; Mutability; Index out of Range...\n",
    "s='cheese'\n",
    "print (s[1])\n",
    "# s[0]=k  is not a valid statement as strings are immutable"
   ]
  },
  {
   "cell_type": "code",
   "execution_count": 46,
   "metadata": {},
   "outputs": [
    {
     "name": "stdout",
     "output_type": "stream",
     "text": [
      "2\n",
      "[1, 20, 3]\n"
     ]
    },
    {
     "ename": "IndexError",
     "evalue": "list assignment index out of range",
     "output_type": "error",
     "traceback": [
      "\u001b[0;31m---------------------------------------------------------------------------\u001b[0m",
      "\u001b[0;31mIndexError\u001b[0m                                Traceback (most recent call last)",
      "\u001b[0;32m<ipython-input-46-8cdef4d17011>\u001b[0m in \u001b[0;36m<module>\u001b[0;34m\u001b[0m\n\u001b[1;32m      6\u001b[0m \u001b[0;34m\u001b[0m\u001b[0m\n\u001b[1;32m      7\u001b[0m \u001b[0mnumbers\u001b[0m\u001b[0;34m=\u001b[0m \u001b[0;34m[\u001b[0m\u001b[0;36m1\u001b[0m\u001b[0;34m,\u001b[0m \u001b[0;36m100\u001b[0m\u001b[0;34m,\u001b[0m \u001b[0;36m50\u001b[0m\u001b[0;34m]\u001b[0m\u001b[0;34m\u001b[0m\u001b[0;34m\u001b[0m\u001b[0m\n\u001b[0;32m----> 8\u001b[0;31m \u001b[0mnumbers\u001b[0m\u001b[0;34m[\u001b[0m\u001b[0;36m4\u001b[0m\u001b[0;34m]\u001b[0m \u001b[0;34m=\u001b[0m \u001b[0;36m1000\u001b[0m\u001b[0;34m\u001b[0m\u001b[0;34m\u001b[0m\u001b[0m\n\u001b[0m\u001b[1;32m      9\u001b[0m \u001b[0mprint\u001b[0m\u001b[0;34m(\u001b[0m\u001b[0mnumbers\u001b[0m\u001b[0;34m)\u001b[0m\u001b[0;34m\u001b[0m\u001b[0;34m\u001b[0m\u001b[0m\n\u001b[1;32m     10\u001b[0m \u001b[0;34m\u001b[0m\u001b[0m\n",
      "\u001b[0;31mIndexError\u001b[0m: list assignment index out of range"
     ]
    }
   ],
   "source": [
    "# Strings and Lists; Mutability; Index out of Range...\n",
    "numbers=[1,2,3]\n",
    "print(numbers[1])\n",
    "numbers[1]=20\n",
    "print(numbers)\n",
    "\n",
    "numbers= [1, 100, 50]\n",
    "numbers[4] = 1000\n",
    "print(numbers)\n",
    "\n",
    "# making copies of lists (especially if changing the values in the list) - see more below\n",
    "# change the last two items in the list above"
   ]
  },
  {
   "cell_type": "code",
   "execution_count": 8,
   "metadata": {},
   "outputs": [
    {
     "name": "stdout",
     "output_type": "stream",
     "text": [
      "brie ['b', 'r', 'i', 'e']\n"
     ]
    }
   ],
   "source": [
    "# Type Conversion\n",
    "\n",
    "cheese='brie'\n",
    "ch=list(cheese)\n",
    "print (cheese, ch)"
   ]
  },
  {
   "cell_type": "code",
   "execution_count": 2,
   "metadata": {},
   "outputs": [
    {
     "name": "stdout",
     "output_type": "stream",
     "text": [
      "['The', 'Big', 'Lebowski']\n"
     ]
    }
   ],
   "source": [
    "# More on Lists and Strings\n",
    "\n",
    "movie=\" The Big Lebowski \"\n",
    "words=movie.split()\n",
    "print (words)"
   ]
  },
  {
   "cell_type": "code",
   "execution_count": 10,
   "metadata": {},
   "outputs": [
    {
     "name": "stdout",
     "output_type": "stream",
     "text": [
      "['The', 'Big', 'Lebowski']\n"
     ]
    }
   ],
   "source": [
    "movie=\"The,Big,Lebowski\"\n",
    "words=movie.split(',')\n",
    "print (words)"
   ]
  },
  {
   "cell_type": "code",
   "execution_count": 4,
   "metadata": {},
   "outputs": [
    {
     "name": "stdout",
     "output_type": "stream",
     "text": [
      "The&Big&Lebowski\n"
     ]
    }
   ],
   "source": [
    "delim='&'  #Empty string as delimiter\n",
    "mov=delim.join(words)\n",
    "print(mov)"
   ]
  },
  {
   "cell_type": "code",
   "execution_count": 5,
   "metadata": {},
   "outputs": [
    {
     "name": "stdout",
     "output_type": "stream",
     "text": [
      "[1, 2, 3, 4]\n",
      "[1, 2, 3, 4, 4, 5, 6, 5]\n"
     ]
    }
   ],
   "source": [
    "# List Methods: append, extend\n",
    "# return values of list methods\n",
    "\n",
    "x=[1,2,3]\n",
    "x.append(4) # add the data object at the end of the list;\n",
    "print (x)\n",
    "\n",
    "z=[4,5,6,5]\n",
    "x.extend(z) # add elements of the list z at the end\n",
    "print (x)\n",
    "\n",
    "# please note that both methods return none type; \n",
    "# if you write y=x.append(4), y will be assigned None.\n",
    "# try x.append([4, 5]); x.extend([4, 5]); "
   ]
  },
  {
   "cell_type": "code",
   "execution_count": 6,
   "metadata": {},
   "outputs": [
    {
     "name": "stdout",
     "output_type": "stream",
     "text": [
      "[1, 2, 3, 4, 4, 5, 6, 5, [8, 5, 3]]\n"
     ]
    }
   ],
   "source": [
    "x.append([8,5,3])\n",
    "print(x)"
   ]
  },
  {
   "cell_type": "code",
   "execution_count": 7,
   "metadata": {},
   "outputs": [
    {
     "name": "stdout",
     "output_type": "stream",
     "text": [
      "[1, 3, 4, 5, 6]\n",
      "2\n"
     ]
    }
   ],
   "source": [
    "# List Methods: pop, remove; Also del operator\n",
    "\n",
    "x=[1,2,3,4,5,6]\n",
    "y=x.pop(1)    # The popped element at index position 1 will be assigned to y\n",
    "print (x, y, sep=\"\\n\") "
   ]
  },
  {
   "cell_type": "code",
   "execution_count": 8,
   "metadata": {},
   "outputs": [
    {
     "name": "stdout",
     "output_type": "stream",
     "text": [
      "[1, 2, 3, 5, 6]\n"
     ]
    }
   ],
   "source": [
    "x=[1,2,3,4,5,6]\n",
    "del x[3]\n",
    "print(x)"
   ]
  },
  {
   "cell_type": "code",
   "execution_count": 10,
   "metadata": {},
   "outputs": [
    {
     "name": "stdout",
     "output_type": "stream",
     "text": [
      "[4, 5, 6]\n"
     ]
    }
   ],
   "source": [
    "x=[1,2,3,4,5,6]\n",
    "del x[:3]\n",
    "print(x)"
   ]
  },
  {
   "cell_type": "code",
   "execution_count": 1,
   "metadata": {},
   "outputs": [
    {
     "name": "stdout",
     "output_type": "stream",
     "text": [
      "[1, 2, 4, 5, 6, 3]\n",
      "[1, 2, 4, 5, 6]\n",
      "None\n"
     ]
    }
   ],
   "source": [
    "x=[1,2,3,4,5,6,3]\n",
    "x.remove(3)  \n",
    "print(x)\n",
    "z=x.remove(3) \n",
    "print(x)\n",
    "print(z)"
   ]
  },
  {
   "cell_type": "code",
   "execution_count": 13,
   "metadata": {},
   "outputs": [
    {
     "name": "stdout",
     "output_type": "stream",
     "text": [
      "['JOHN', 'JANE', 'jOE']\n"
     ]
    }
   ],
   "source": [
    "x=['JOHN','JANE','jOE','Kumar']\n",
    "del x[3]\n",
    "print(x)"
   ]
  },
  {
   "cell_type": "code",
   "execution_count": 14,
   "metadata": {},
   "outputs": [
    {
     "name": "stdout",
     "output_type": "stream",
     "text": [
      "[1, 2, 2, 3, 4, 5, 6]\n",
      "2\n"
     ]
    }
   ],
   "source": [
    "# List Methods: Sort, Count\n",
    "\n",
    "x=[4, 3, 5, 2, 6, 1,2]\n",
    "x.sort()  # sorts the elements in a list\n",
    "print(x)\n",
    "\n",
    "a=x.count(2)  # How many times is the item 2 in the list?\n",
    "print (a)"
   ]
  },
  {
   "cell_type": "code",
   "execution_count": 15,
   "metadata": {},
   "outputs": [
    {
     "name": "stdout",
     "output_type": "stream",
     "text": [
      "['beta', 'alpha', 'gamma']\n",
      "['alpha', 'beta', 'gamma']\n"
     ]
    }
   ],
   "source": [
    "y=['beta','alpha','gamma']\n",
    "print(y)\n",
    "y.sort()\n",
    "print(y)"
   ]
  },
  {
   "cell_type": "code",
   "execution_count": 5,
   "metadata": {},
   "outputs": [
    {
     "name": "stdout",
     "output_type": "stream",
     "text": [
      "2\n",
      "[4, 3, 5, 'this was inserted', 2, 6, 5, 1]\n",
      "[1, 5, 6, 2, 'this was inserted', 5, 3, 4]\n"
     ]
    }
   ],
   "source": [
    "# List Methods: index, insert\n",
    "\n",
    "x=[4, 3, 5, 2, 6, 5, 1]\n",
    "b=x.index(5)  # Find index of first item 5 in the list\n",
    "print (b)\n",
    "\n",
    "x.insert(3,'this was inserted')  # Insert 'inserted' at index position 2\n",
    "print (x)\n",
    "\n",
    "x.reverse()\n",
    "print(x)"
   ]
  },
  {
   "cell_type": "code",
   "execution_count": 17,
   "metadata": {},
   "outputs": [
    {
     "name": "stdout",
     "output_type": "stream",
     "text": [
      "[100, 121, 22, 43]\n",
      "4\n",
      "121\n"
     ]
    }
   ],
   "source": [
    "# Lists Built-in Functions: Len, max, min, sum\n",
    "\n",
    "x=[100,121,22,43]\n",
    "y=len(x) # max, min and sum can be used on the list to perform operations\n",
    "z=max(x)\n",
    "print (x, y, z, sep=\"\\n\")"
   ]
  },
  {
   "cell_type": "code",
   "execution_count": 18,
   "metadata": {},
   "outputs": [
    {
     "name": "stdout",
     "output_type": "stream",
     "text": [
      "Enter a name: Coco\n",
      "Enter a name: Finding nemo\n",
      "Enter a name: bourne identify\n",
      "['Coco', 'Finding nemo', 'bourne identify']\n"
     ]
    }
   ],
   "source": [
    "# Construct a list with names of three favorite movies\n",
    "\n",
    "listNames = []\n",
    "count=0\n",
    "while count < 3:\n",
    "    listNames.append(input(\"Enter a name: \"))\n",
    "    count += 1\n",
    "print(listNames)\n"
   ]
  },
  {
   "cell_type": "markdown",
   "metadata": {},
   "source": [
    "##### Exercise: \n",
    "Take a positive integer as an input from the user; construct a list containing n elements (all numbers) with user input. <br> \n",
    "Modify the program to compute average of numbers in the list.<br>"
   ]
  },
  {
   "cell_type": "code",
   "execution_count": 11,
   "metadata": {},
   "outputs": [
    {
     "name": "stdout",
     "output_type": "stream",
     "text": [
      "[0, 10, 40, 90, 160]\n"
     ]
    }
   ],
   "source": [
    "# List Comprehension\n",
    "\n",
    "lis1 = [x*10 for x in lis]\n",
    "print(lis1)"
   ]
  },
  {
   "cell_type": "code",
   "execution_count": 12,
   "metadata": {},
   "outputs": [
    {
     "name": "stdout",
     "output_type": "stream",
     "text": [
      "[40]\n",
      "[0, 1, 4, 9, 16]\n"
     ]
    }
   ],
   "source": [
    "# List Comprehension syntax: \n",
    "# lis = [expression, for loop in list, condition (optional)]\n",
    "\n",
    "lis2 = [x*10 for x in lis if x==4]\n",
    "print(lis2)\n",
    "print(lis)"
   ]
  },
  {
   "cell_type": "code",
   "execution_count": null,
   "metadata": {},
   "outputs": [],
   "source": [
    "lst = [ x**2 for x in [x**2 for x in range(11)]]\n",
    "print(lst)"
   ]
  },
  {
   "cell_type": "code",
   "execution_count": 14,
   "metadata": {},
   "outputs": [
    {
     "name": "stdout",
     "output_type": "stream",
     "text": [
      "0 4\n",
      "1 6\n",
      "2 8\n",
      "3 9\n",
      "4 10\n"
     ]
    }
   ],
   "source": [
    "lis = [4,6,8,9,10]\n",
    "\n",
    "for index, value in enumerate(lis):\n",
    "    print(index, value)"
   ]
  },
  {
   "cell_type": "code",
   "execution_count": null,
   "metadata": {},
   "outputs": [],
   "source": [
    "lis=['john','jane','ram']\n",
    "for index, value in enumerate(lis):\n",
    "    print(index,value)"
   ]
  },
  {
   "cell_type": "code",
   "execution_count": 17,
   "metadata": {},
   "outputs": [
    {
     "name": "stdout",
     "output_type": "stream",
     "text": [
      "[1, 4, 9, 16, 25]\n"
     ]
    }
   ],
   "source": [
    "# use enumerate to generate both the index and the value associated with it\n",
    "\n",
    "lis = [1, 2, 3, 4, 5]\n",
    "\n",
    "for index, value in enumerate(lis):\n",
    "    lis[index] = value**2\n",
    "\n",
    "print(lis) "
   ]
  },
  {
   "cell_type": "code",
   "execution_count": null,
   "metadata": {
    "collapsed": true
   },
   "outputs": [],
   "source": [
    "#Exercises from blackboard "
   ]
  },
  {
   "cell_type": "code",
   "execution_count": 4,
   "metadata": {},
   "outputs": [
    {
     "name": "stdout",
     "output_type": "stream",
     "text": [
      "[1, 2, 3, 0]\n",
      "['this list is getting reversed', 'b', 'a,']\n"
     ]
    }
   ],
   "source": [
    "z = [1, 2, 3]\n",
    "z.append(0) #append is a METHOD, which needs parenthesis \n",
    "print(z)\n",
    "\n",
    "b = ['a,', 'b', 'this list is getting reversed'] #this is how you reverse a list \n",
    "b.reverse()\n",
    "print(b)"
   ]
  },
  {
   "cell_type": "code",
   "execution_count": 129,
   "metadata": {
    "scrolled": true
   },
   "outputs": [
    {
     "name": "stdout",
     "output_type": "stream",
     "text": [
      "Day sales for Monday:5\n",
      "Day sales for Tuesday:5\n",
      "Day sales for Wednesday:5\n",
      "Day sales for Thursday:5\n",
      "Day sales for Friday5\n",
      "[['Monday:', 5.0], ['Tuesday', 5.0], ['Wednesday', 5.0], ['Thursday', 5.0], ['Friday', 5.0]]\n"
     ]
    },
    {
     "ename": "TypeError",
     "evalue": "'list' object cannot be interpreted as an integer",
     "output_type": "error",
     "traceback": [
      "\u001b[0;31m---------------------------------------------------------------------------\u001b[0m",
      "\u001b[0;31mTypeError\u001b[0m                                 Traceback (most recent call last)",
      "\u001b[0;32m<ipython-input-129-40e934e37406>\u001b[0m in \u001b[0;36m<module>\u001b[0;34m\u001b[0m\n\u001b[1;32m     18\u001b[0m \u001b[0;34m\u001b[0m\u001b[0m\n\u001b[1;32m     19\u001b[0m \u001b[0mtotalSales\u001b[0m \u001b[0;34m=\u001b[0m \u001b[0;36m0\u001b[0m\u001b[0;34m\u001b[0m\u001b[0;34m\u001b[0m\u001b[0m\n\u001b[0;32m---> 20\u001b[0;31m \u001b[0;32mfor\u001b[0m \u001b[0mi\u001b[0m \u001b[0;32min\u001b[0m \u001b[0mrange\u001b[0m\u001b[0;34m(\u001b[0m\u001b[0msalesList\u001b[0m\u001b[0;34m[\u001b[0m\u001b[0;34m+\u001b[0m\u001b[0;36m1\u001b[0m\u001b[0;34m]\u001b[0m\u001b[0;34m)\u001b[0m\u001b[0;34m:\u001b[0m\u001b[0;34m\u001b[0m\u001b[0;34m\u001b[0m\u001b[0m\n\u001b[0m\u001b[1;32m     21\u001b[0m     \u001b[0mtotalSales\u001b[0m \u001b[0;34m+=\u001b[0m \u001b[0msalesList\u001b[0m\u001b[0;34m[\u001b[0m\u001b[0mi\u001b[0m\u001b[0;34m]\u001b[0m\u001b[0;34m\u001b[0m\u001b[0;34m\u001b[0m\u001b[0m\n\u001b[1;32m     22\u001b[0m \u001b[0mprint\u001b[0m\u001b[0;34m(\u001b[0m\u001b[0mtotalSales\u001b[0m\u001b[0;34m)\u001b[0m\u001b[0;34m\u001b[0m\u001b[0;34m\u001b[0m\u001b[0m\n",
      "\u001b[0;31mTypeError\u001b[0m: 'list' object cannot be interpreted as an integer"
     ]
    }
   ],
   "source": [
    "#Lists: Design a program that asks the user to enter a store’s sales for each day of the week. \n",
    "#The amounts should be stored in a list. Use a loop to calculate the total sales for the week and display the result.\n",
    "\n",
    "salesMonday = float(input(\"Day sales for Monday:\"))\n",
    "salesTuesday = float(input(\"Day sales for Tuesday:\"))\n",
    "salesWednesday = float(input(\"Day sales for Wednesday:\"))\n",
    "salesThursday = float(input(\"Day sales for Thursday:\"))\n",
    "salesFriday = float(input(\"Day sales for Friday\"))\n",
    "\n",
    "\n",
    "salesList = []\n",
    "salesList.append([\"Monday:\", salesMonday])\n",
    "salesList.append([\"Tuesday\", salesTuesday])\n",
    "salesList.append([\"Wednesday\", salesWednesday])\n",
    "salesList.append([\"Thursday\", salesThursday])\n",
    "salesList.append([\"Friday\", salesFriday])\n",
    "print(salesList[:])\n",
    "\n",
    "totalSales = 0 \n",
    "for i in range(salesList[+1]):\n",
    "    totalSales += salesList[i] \n",
    "print(totalSales)\n",
    "    \n",
    "\n",
    "#do this three times, instead of take one number each member should have a day of the week and one number "
   ]
  },
  {
   "cell_type": "markdown",
   "metadata": {},
   "source": [
    "# "
   ]
  },
  {
   "cell_type": "code",
   "execution_count": 3,
   "metadata": {},
   "outputs": [
    {
     "name": "stdout",
     "output_type": "stream",
     "text": [
      "[1]\n"
     ]
    }
   ],
   "source": [
    "\n"
   ]
  }
 ],
 "metadata": {
  "kernelspec": {
   "display_name": "Python 3",
   "language": "python",
   "name": "python3"
  },
  "language_info": {
   "codemirror_mode": {
    "name": "ipython",
    "version": 3
   },
   "file_extension": ".py",
   "mimetype": "text/x-python",
   "name": "python",
   "nbconvert_exporter": "python",
   "pygments_lexer": "ipython3",
   "version": "3.7.1"
  }
 },
 "nbformat": 4,
 "nbformat_minor": 1
}
