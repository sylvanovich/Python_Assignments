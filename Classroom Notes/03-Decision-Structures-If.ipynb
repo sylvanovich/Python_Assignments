{
 "cells": [
  {
   "cell_type": "markdown",
   "metadata": {},
   "source": [
    "#### Decision Structures: If-Elif-Else"
   ]
  },
  {
   "cell_type": "markdown",
   "metadata": {},
   "source": [
    "Control Structures (order in which program statements execute): <br>\n",
    "So far we have looked at Sequence Structures. This class we will start looking at Decision Structures (If-Elif-Then). <hr>\n",
    "\n",
    "Conditional Statement (decision structures) changes the flow of the code depending on the condition/decision.  There are different types of decision structures:  <br>\n",
    "Single Alternative Decision Structure (One-way) <br>\n",
    "Double Alternative Decision Structure (Two-way) <br>\n",
    "Multi Alternative Decision Structure (Multi-way) <hr>\n",
    "\n",
    "Other Notes:<br>\n",
    "Importance of Indentation<br>\n",
    "Comparison/Relational Operators<br>\n",
    "Boolean Expressions<br>\n",
    "String comparison<hr>"
   ]
  },
  {
   "cell_type": "code",
   "execution_count": 16,
   "metadata": {},
   "outputs": [
    {
     "name": "stdout",
     "output_type": "stream",
     "text": [
      "True\n"
     ]
    }
   ],
   "source": [
    "a=15\n",
    "b=6\n",
    "pizza=(a>b) # what variable type is xBool?\n",
    "print (pizza)\n",
    "#print (type(pizza))"
   ]
  },
  {
   "cell_type": "code",
   "execution_count": 22,
   "metadata": {},
   "outputs": [
    {
     "name": "stdout",
     "output_type": "stream",
     "text": [
      "15 is greater than 6\n",
      "is this going to print?\n",
      "done\n"
     ]
    }
   ],
   "source": [
    "a=15\n",
    "b=6\n",
    "if (a>b):\n",
    "    print (a, 'is greater than', b)\n",
    "print('is this going to print?')\n",
    "print ('done')"
   ]
  },
  {
   "cell_type": "code",
   "execution_count": 19,
   "metadata": {},
   "outputs": [
    {
     "name": "stdout",
     "output_type": "stream",
     "text": [
      "True\n",
      "ttt\n",
      "done\n"
     ]
    }
   ],
   "source": [
    "xBool=True #xBool is a Boolean Variable\n",
    "print (xBool)\n",
    "if xBool:\n",
    "    print ('ttt')\n",
    "else:\n",
    "    print ('fff')\n",
    "print ('done')"
   ]
  },
  {
   "cell_type": "markdown",
   "metadata": {},
   "source": [
    "<hr>\n",
    "##### Exercises:\n",
    "1) Write an if statement that assigns 0.2 to commissionRate if sales is greater than or equal to 1000 <br>\n",
    "2) Calculate pay with overtime <br>\n",
    "3) Determine if a customer qualifies for credit using salary and employment length as criteria <br>\n",
    "4) Grading based on test score range (using if-else; if-elif-else; differences between nested if-else and if-elif-else) <hr>"
   ]
  },
  {
   "cell_type": "code",
   "execution_count": null,
   "metadata": {},
   "outputs": [],
   "source": [
    "a=(int(input('enter first number: ')))\n",
    "b=(int(input('enter second number: ')))\n",
    "if a>b:\n",
    "    print(a, \"is greater than\", b)\n",
    "elif a<b:\n",
    "    print(a, \"is smaller than\", b)\n",
    "else:\n",
    "    print(a, \"is equal to\", b)"
   ]
  },
  {
   "cell_type": "code",
   "execution_count": 35,
   "metadata": {},
   "outputs": [
    {
     "name": "stdout",
     "output_type": "stream",
     "text": [
      "Enter a number: 3\n",
      "x is small\n",
      "done\n"
     ]
    }
   ],
   "source": [
    "x=int(input('Enter a number: '))\n",
    "if (x<10):\n",
    "    print ('x is small')\n",
    "elif (x<50):\n",
    "    print('x is medium')\n",
    "elif (x<100):\n",
    "    print('x is slightly large')\n",
    "else:\n",
    "    print('x is large')\n",
    "\n",
    "print ('done')"
   ]
  },
  {
   "cell_type": "code",
   "execution_count": null,
   "metadata": {},
   "outputs": [],
   "source": [
    "salary=float(input('Enter annual salary: '))\n",
    "experience=float(input('Enter years of experience: '))\n",
    "if ((salary>40000) and (experience>2)):\n",
    "    print('Congrats.  You are approved')\n",
    "else:\n",
    "    print('Sorry, you do not qualify for credit')\n",
    "print('done')"
   ]
  },
  {
   "cell_type": "code",
   "execution_count": 6,
   "metadata": {},
   "outputs": [
    {
     "name": "stdout",
     "output_type": "stream",
     "text": [
      "Will this ever be true?\n"
     ]
    }
   ],
   "source": [
    "x=30\n",
    "    print('Will this ever be true?')\n",
    "else:\n",
    "    print ('I will always print')\n"
   ]
  },
  {
   "cell_type": "code",
   "execution_count": 42,
   "metadata": {},
   "outputs": [
    {
     "name": "stdout",
     "output_type": "stream",
     "text": [
      "Will I ever print\n"
     ]
    }
   ],
   "source": [
    "x=20\n",
    "if 20<=x<50:\n",
    "    print('Will I ever print')\n",
    "else:\n",
    "    print('What?')"
   ]
  },
  {
   "cell_type": "code",
   "execution_count": 45,
   "metadata": {},
   "outputs": [
    {
     "name": "stdout",
     "output_type": "stream",
     "text": [
      "Enter score: 94\n",
      "A\n",
      "A-\n",
      "B+\n"
     ]
    }
   ],
   "source": [
    "score=int(input('Enter score: '))\n",
    "if score>93:\n",
    "    print('A')\n",
    "if score>90:\n",
    "    print ('A-')\n",
    "if score>87:\n",
    "    print ('B+')"
   ]
  },
  {
   "cell_type": "code",
   "execution_count": 46,
   "metadata": {},
   "outputs": [
    {
     "name": "stdout",
     "output_type": "stream",
     "text": [
      "Enter score: 90\n",
      "B+\n"
     ]
    }
   ],
   "source": [
    "score=int(input('Enter score: '))\n",
    "if score>93:\n",
    "    print('A')\n",
    "elif score>90:\n",
    "    print ('A-')\n",
    "elif score>87:\n",
    "    print ('B+')"
   ]
  },
  {
   "cell_type": "code",
   "execution_count": 52,
   "metadata": {},
   "outputs": [
    {
     "name": "stdout",
     "output_type": "stream",
     "text": [
      "Enter score: 50\n"
     ]
    }
   ],
   "source": [
    "score=int(input('Enter score: '))\n",
    "if score>=93:\n",
    "    print('A')\n",
    "elif score>=90:\n",
    "    print ('A-')\n",
    "elif score>=87:\n",
    "    print ('B+') "
   ]
  },
  {
   "cell_type": "code",
   "execution_count": 54,
   "metadata": {},
   "outputs": [
    {
     "name": "stdout",
     "output_type": "stream",
     "text": [
      "Enter password: joe\n",
      "right\n"
     ]
    }
   ],
   "source": [
    "password=input('Enter password: ')\n",
    "if password=='joe':\n",
    "    print('right')\n",
    "else:\n",
    "    print('wrong')"
   ]
  },
  {
   "cell_type": "code",
   "execution_count": 59,
   "metadata": {},
   "outputs": [
    {
     "name": "stdout",
     "output_type": "stream",
     "text": [
      "KANNAN\n"
     ]
    }
   ],
   "source": [
    "name='kannan'\n",
    "print(name.upper())"
   ]
  },
  {
   "cell_type": "code",
   "execution_count": 63,
   "metadata": {},
   "outputs": [
    {
     "name": "stdout",
     "output_type": "stream",
     "text": [
      "same\n"
     ]
    }
   ],
   "source": [
    "name='kannan'\n",
    "OtherName='KANNAN'\n",
    "if name.upper()==OtherName.upper():\n",
    "    print('same')\n",
    "else:\n",
    "    print('different')"
   ]
  },
  {
   "cell_type": "code",
   "execution_count": 64,
   "metadata": {},
   "outputs": [
    {
     "name": "stdout",
     "output_type": "stream",
     "text": [
      "different\n"
     ]
    }
   ],
   "source": [
    "name='kannan'\n",
    "\n",
    "if name=='Kannan':\n",
    "    print('same')\n",
    "else:\n",
    "    print('different')"
   ]
  },
  {
   "cell_type": "code",
   "execution_count": 65,
   "metadata": {},
   "outputs": [
    {
     "name": "stdout",
     "output_type": "stream",
     "text": [
      "6\n",
      "-1\n",
      "3\n",
      "10\n"
     ]
    }
   ],
   "source": [
    "num = 0 \n",
    "for i in[6, -1, 3, 10]:\n",
    "    i > num\n",
    "    print(i)"
   ]
  }
 ],
 "metadata": {
  "kernelspec": {
   "display_name": "Python 3",
   "language": "python",
   "name": "python3"
  },
  "language_info": {
   "codemirror_mode": {
    "name": "ipython",
    "version": 3
   },
   "file_extension": ".py",
   "mimetype": "text/x-python",
   "name": "python",
   "nbconvert_exporter": "python",
   "pygments_lexer": "ipython3",
   "version": "3.7.1"
  }
 },
 "nbformat": 4,
 "nbformat_minor": 1
}
